{
 "cells": [
  {
   "cell_type": "markdown",
   "metadata": {},
   "source": [
    "# Computable Dart Board"
   ]
  },
  {
   "cell_type": "markdown",
   "metadata": {
    "id": "HgvUlRQ7m9qo"
   },
   "source": [
    "### This build on the Physical Dart Board we used in the first class period!\n",
    "### First we are going to form teams and elect captain for each team. \n",
    "Your team name will be sected from the combination of the text formed by <span style=\"color:blue\">***random adjective-random noun***</span> for example it could be <span style=\"color:red\">***lazy-ficus***"
   ]
  },
  {
   "cell_type": "markdown",
   "metadata": {},
   "source": [
    "<img src=\"https://chandrunarayan.github.io/fcsr/geometry/pi1.png\" align=\"left\" width=400 />\n",
    "Here we have a circular dart board with radius R inscribed in a square. If you threw <span style=\"color:red\"</span>A LOT OF DARTS</span> then Area = number of darts!\n",
    "\n",
    "$$Circle\\_Area={\\pi}\\times{R}^2$$\n",
    "\n",
    "$$Square\\_Area=(2\\times{R})^2$$\n",
    "\n",
    "$$\\frac{Square\\_Area}{Circle\\_Area}=\\frac{4\\times{R}^2}{\\pi\\times{R}^2}=\\frac{4}{\\pi}$$\n",
    "\n",
    "$$\\frac{Darts\\_in\\_Square}{Darts\\_in\\_Circle}=\\frac{4}{\\pi}$$\n",
    "$${\\pi}={4}\\times(\\frac{Darts\\_in\\_Circle}{Darts\\_in\\_Square})$$\n",
    "\n",
    "<span style=\"color:blue\">Rearrange this to find PI using your calculator and write it in your notebook!</span>  Which team came the closest to the corect value ??\n",
    "\n"
   ]
  },
  {
   "cell_type": "markdown",
   "metadata": {
    "id": "0lzRIV0zgF_t"
   },
   "source": [
    "## Let the computer play Darts to calculate PI throw hundreds of Darts !!\n",
    "1. We will walk through each code cell below!"
   ]
  },
  {
   "cell_type": "code",
   "execution_count": null,
   "metadata": {
    "tags": []
   },
   "outputs": [],
   "source": [
    "#### IMPORT LIBRARIES Code Block\n",
    "import board\n",
    "import neopixel\n",
    "from time import sleep\n",
    "from gpiozero import LED, Button\n",
    "from datetime import datetime"
   ]
  },
  {
   "cell_type": "code",
   "execution_count": null,
   "metadata": {},
   "outputs": [],
   "source": [
    "totalThrows=100   # how many times we throw the dart"
   ]
  },
  {
   "cell_type": "code",
   "execution_count": null,
   "metadata": {},
   "outputs": [],
   "source": [
    "#### BUTTON SETUP Code Block\n",
    "\n",
    "# BUTTON setup\n",
    "\n",
    "bclicked = False;\n",
    "\n",
    "# This is the Callback funtion when button is pressed\n",
    "# Each time it is pressed this function is called by the system\n",
    "def pressed(button):\n",
    "    \n",
    "    global bclicked\n",
    "    \n",
    "    current_time = datetime.now()\n",
    "    print(f'button {button.pin.number} was pressed @ {current_time}')\n",
    "    bclicked = not bclicked\n",
    "# The Callback funtion ENDS HERE\n",
    "\n",
    "gpio_btnpin = 4  # Connect one Button lead to GPIO4 other to GND\n",
    "button = Button(gpio_btnpin) # Tell the button object that the pin is GPIO4\n",
    "\n",
    "# 'pressed' is callback function above\n",
    "# 'button.when_pressed' is the event it reacts to\n",
    "button.when_pressed = pressed\n",
    "\n"
   ]
  },
  {
   "cell_type": "code",
   "execution_count": null,
   "metadata": {
    "tags": []
   },
   "outputs": [],
   "source": [
    "### Pixel Board Setup Block\n",
    "pixel_pin = board.D18\n",
    "num_pixels = 100\n",
    "ORDER = neopixel.RGB\n",
    "pixels = neopixel.NeoPixel(pixel_pin, num_pixels, \n",
    "                           brightness=0.1, auto_write=False,\n",
    "                           pixel_order=ORDER)"
   ]
  },
  {
   "cell_type": "code",
   "execution_count": null,
   "metadata": {},
   "outputs": [],
   "source": [
    "def reset():\n",
    "    for ii in range(num_pixels):\n",
    "        pixels.fill((0,0,0))\n",
    "        pixels[ii]=((0,0,0))\n",
    "        pixels.show()\n",
    "    sleep(2)"
   ]
  },
  {
   "cell_type": "code",
   "execution_count": null,
   "metadata": {},
   "outputs": [],
   "source": [
    "def initialize():   # set leds white-off\n",
    "    for ii in range(3):         # flash white 3-times\n",
    "        pixels.fill((0,0,0))\n",
    "        #print(pixels)\n",
    "        pixels.show()\n",
    "        sleep(0.1)\n",
    "        pixels.fill((255,255,255))\n",
    "        #print(pixels)\n",
    "        pixels.show()\n",
    "        sleep(0.2)\n",
    "    pixels.fill((0,0,0))\n",
    "    #print(pixels)\n",
    "    pixels.show()    "
   ]
  },
  {
   "cell_type": "code",
   "execution_count": null,
   "metadata": {
    "tags": []
   },
   "outputs": [],
   "source": [
    "# Creating pixel conversion 2-D Array \n",
    "import math\n",
    "import numpy as np\n",
    "\n",
    "P = np.array([[90,91,92,93,94,95,96,97,98,99], \n",
    "              [89,88,87,86,85,84,83,82,81,80],\n",
    "              [70,71,72,73,74,75,76,77,78,79], \n",
    "              [69,68,67,66,65,64,63,62,61,60],\n",
    "              [50,51,52,53,54,55,56,57,58,59], \n",
    "              [49,48,47,46,45,44,43,42,41,40],\n",
    "              [30,31,32,33,34,35,36,37,38,39], \n",
    "              [29,28,27,26,25,24,23,22,21,20],\n",
    "              [10,11,12,13,14,15,16,17,18,19], \n",
    "              [ 9, 8, 7, 6, 5, 4, 3, 2, 1, 0]])  \n",
    "\n",
    "def pix(x,y):  \n",
    "    p = math.trunc(5*(x+0.99))\n",
    "    q = math.trunc(5*(y-0.99))    \n",
    "    r = abs(q)\n",
    "    c = abs(p)\n",
    "    #print(f'r = {r} c = {c}')\n",
    "    return P[r][c]"
   ]
  },
  {
   "cell_type": "code",
   "execution_count": null,
   "metadata": {},
   "outputs": [],
   "source": [
    "#function to setup the plot and dartboard\n",
    "import numpy as np\n",
    "import matplotlib.pyplot as plt\n",
    "\n",
    "def plot_dartboard():\n",
    "    fig, axs = plt.subplots(1)\n",
    "    plt.margins(0.005, tight=True)\n",
    "    axs.set_aspect('equal')\n",
    "    theta = np.linspace(0, 2*np.pi, num_pixels)\n",
    "    radius = 1\n",
    "    a = radius * np.cos(theta)\n",
    "    b = radius * np.sin(theta)    \n",
    "    axs.plot(a,b)"
   ]
  },
  {
   "cell_type": "code",
   "execution_count": null,
   "metadata": {
    "tags": []
   },
   "outputs": [],
   "source": [
    "#Derive PI from a circle inscribed in a square\n",
    "import random,math,time\n",
    "import matplotlib.pyplot as plt\n",
    "\n",
    "# setup time\n",
    "start_time = time.time()\n",
    "\n",
    "# reset neopixel array\n",
    "reset()\n",
    "initialize()\n",
    "\n",
    "throwsInsideCircle = 0 # starting value for a counter\n",
    "throwsOutsideCircle = 0\n",
    "\n",
    "ax = []\n",
    "ay = []\n",
    "cl = []\n",
    "\n",
    "while True:\n",
    "    if bclicked:\n",
    "        plot_dartboard()\n",
    "        for throw in range(10): # loop\n",
    "          x = random.random()*2 -1 # a random x value between [-1.0000,0.99999] not including 1\n",
    "          ax.append(x)\n",
    "          y = random.random()*2 -1 # a random y value between [-1.0000,0.99999] not including 1\n",
    "          ay.append(y)\n",
    "\n",
    "          if(x*x + y*y <= 1.0): # if inside the circle (distance squared)\n",
    "            throwsInsideCircle += 1\n",
    "            cl.append('darkgreen')\n",
    "            plt.scatter(ax, ay, color=cl)\n",
    "            pixels[pix(x,y)]=((0,255,0))\n",
    "          else:\n",
    "            throwsOutsideCircle += 1\n",
    "            cl.append('red')\n",
    "            plt.scatter(ax, ay, color=cl)\n",
    "            pixels[pix(x,y)]=((255,0,0))\n",
    "\n",
    "          # all done, compute pi\n",
    "          pi = (4.0*throwsInsideCircle)/(throwsInsideCircle + throwsOutsideCircle)\n",
    "          #print(pi) \n",
    "          #print(\"--- %s seconds ---\" % (time.time() - start_time))\n",
    "\n",
    "          # show darts in neopixel array\n",
    "          pixels.show()\n",
    "          #print('throws so far = ' + str(throw+1) + '  calculated pi = ' + str(pi))\n",
    "          sleep(.2)\n",
    "        \n",
    "        plt.title('throws = ' + str(throwsInsideCircle + throwsOutsideCircle) + '  calculated pi = ' + str(pi))    \n",
    "        plt.show()\n",
    "        end_time = time.time()\n",
    "        elapsed_time = end_time-start_time\n",
    "        print(f'   --- threw {(throwsInsideCircle + throwsOutsideCircle)} darts in {elapsed_time:.2f} seconds ---')\n",
    "        bclicked = not bclicked\n",
    "\n"
   ]
  },
  {
   "cell_type": "code",
   "execution_count": null,
   "metadata": {},
   "outputs": [],
   "source": []
  }
 ],
 "metadata": {
  "accelerator": "GPU",
  "colab": {
   "provenance": []
  },
  "kernelspec": {
   "display_name": "Python 3 (ipykernel)",
   "language": "python",
   "name": "python3"
  },
  "language_info": {
   "codemirror_mode": {
    "name": "ipython",
    "version": 3
   },
   "file_extension": ".py",
   "mimetype": "text/x-python",
   "name": "python",
   "nbconvert_exporter": "python",
   "pygments_lexer": "ipython3",
   "version": "3.11.2"
  }
 },
 "nbformat": 4,
 "nbformat_minor": 4
}
