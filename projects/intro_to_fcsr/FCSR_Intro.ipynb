{
 "cells": [
  {
   "cell_type": "markdown",
   "metadata": {
    "id": "skaK8sjjpTcq"
   },
   "source": [
    "<p><img alt=\"Bush logo\" height=\"45px\" src=\"http://chandrunarayan.github.io/fcsr/bush_logo.png\" align=\"left\" hspace=\"10px\" vspace=\"0px\"></p>\n",
    "\n",
    "<h1><span style=\"color:blue\">Fundamentals of Computing for Researchers</span></h1>\n",
    "\n",
    "### computing skills for the effective learner.\n",
    "\n",
    "<img src=\"https://chandrunarayan.github.io/fcsr/gru.png\" align=\"left\" width=250px />\n",
    "\n",
    "This course is designed to introduce computing as a basic set of skills that everyone needs, regardless of whether you are Learner or Teacher (we are all both !!). I would like to think we are all \"Researchers\" - curious about the changing world around us. It is not just enough to be curious, right? We want to observe, process what we learn in a way that becomes part of our \"story\".\n",
    "\n",
    "My name is Chandru Narayan You can call me \"chandru\" or \"dru\" it's like <span style=\"color:blue\">\"Gru\"</span>. \n",
    "\n",
    "I am an Aerospace Engineer and I love Science, Math, and Computing. I also love to learn and teach! \n",
    "\n",
    "I retired after 33 years in Automotive and Aerospace companies so I can teach computing, astronomy, science and math.  I am excited to be teaching the Fundamentals of Computing for Researchers class and to get to know you all better. \n",
    "\n",
    "I am a Cyclist and Runner. I like to climb mountains on my bicycle. Here I am climbing a steep mountain in the Pyrenees, France.\n",
    "\n",
    "My motto is <span style=\"color:blue\">***life at the speed of a bicycle***</span>"
   ]
  },
  {
   "cell_type": "markdown",
   "metadata": {},
   "source": [
    "## COURSE DESCRIPTION\n",
    "\n",
    "This course is designed to introduce computing as a basic set of skills that everyone needs, regardless of whether you are Learner or Teacher (we are all both !!). I would like to think we are all \"Researchers\" - curious about the changing world around us. It is not just enough to be curious, right? We want to observe, process what we learn in a way that becomes part of our \"story\". \n",
    "\n",
    "## The Scientific Method:\n",
    "- Observe - Be curious always about people and the world around you!\n",
    "- Question - Be an analytical thinker, why do things work the way they do?\n",
    "- Hypothesize - Discover/invent the mechanisms behind what you observe\n",
    "- Predict - Based on yoru theory, can you predict a future event?\n",
    "- Experiment - Run an experiement to see if your theory is correct\n",
    "- Iterate - If not go back and make more Observarions!\n",
    "\n",
    "## Desired Outcomes - Problem Solving Skills!\n",
    "- Algorithmic Thinking\n",
    "- Work on project teams\n",
    "- Problem solving\n",
    "- Python programming language\n",
    "- Graphical data representation\n",
    "- Jupyter Notebooks, Markdown\n",
    "- Device programming using Raspberry PI \n",
    "- Research Portfolios\n",
    "- Presentation to peers\n",
    "\n"
   ]
  },
  {
   "cell_type": "code",
   "execution_count": 1,
   "metadata": {
    "colab": {
     "base_uri": "https://localhost:8080/",
     "height": 445
    },
    "executionInfo": {
     "elapsed": 8,
     "status": "ok",
     "timestamp": 1672005863202,
     "user": {
      "displayName": "Chandru Narayan",
      "userId": "02717025086480664074"
     },
     "user_tz": 480
    },
    "id": "zxCOT2NWWFK4",
    "outputId": "4e8b6da3-1741-4a87-e663-a0574593dbb1"
   },
   "outputs": [
    {
     "data": {
      "text/html": [
       "<iframe src=\"https://player.vimeo.com/video/357446928?title=0&byline=0&portrait=0\" width=\"700\" height=\"394\" frameborder=\"0\" webkitallowfullscreen mozallowfullscreen allowfullscreen></iframe><p><a href=\"https://vimeo.com/357446928\"></a>.</p>"
      ],
      "text/plain": [
       "<IPython.core.display.HTML object>"
      ]
     },
     "execution_count": 1,
     "metadata": {},
     "output_type": "execute_result"
    }
   ],
   "source": [
    "from IPython.display import HTML\n",
    "HTML('<iframe src=\"https://player.vimeo.com/video/357446928?title=0&byline=0&portrait=0\" width=\"700\" height=\"394\" frameborder=\"0\" webkitallowfullscreen mozallowfullscreen allowfullscreen></iframe><p><a href=\"https://vimeo.com/357446928\"></a>.</p>')"
   ]
  },
  {
   "cell_type": "markdown",
   "metadata": {
    "id": "I4ojYypfpf1O"
   },
   "source": [
    "<span style=\"color:blue\">***I have been riding my bicycle to raise money for child abuse prevention. I just finished my ride last month for the 15th consecutive year.***</span>"
   ]
  },
  {
   "cell_type": "markdown",
   "metadata": {
    "id": "Jieshxge3g6X"
   },
   "source": [
    "### Now it is your turn to introduce yourself!\n",
    "### Please get your hard-bound Computing Field Notebook from me and write the following\n",
    "Take 5 minutes ...\n",
    "1. Write your ***<span style=\"color:blue\">first name (nickname)</span> on the front cover*** with a marker\n",
    "1. Write your preferred pronoun and how you like to be addressed on the first page inside\n",
    "1. Write a ***<span style=\"color:blue\">random adjective (be creative!)</span>***\n",
    "1. Write a ***<span style=\"color:blue\">random noun (non-human, place, or thing)</span>***\n",
    "1. Why did you choose to take this class?\n",
    "1. What is ***<span style=\"color:blue\">one thing thing you want out of this class</span>***?\n",
    "1. Name an interest or hobby?\n",
    "1. What subjects are your favourite?\n",
    "1. What do you like to read?\n",
    "1. What do you do for fun outside?\n",
    "1. What is your favourite food?\n",
    "1. Any questions for me? - anything is OK to ask, but I may not have all the answers!\n",
    "1. Read these out aloud when it is your turn\n",
    "\n",
    "### Notebook etiquette\n",
    "1. Please ***<span style=\"color:blue\">pick up your notebook when you arrive</span>*** in class each and every day and ***<span style=\"color:blue\">put it back when you leave</span>***\n",
    "1. Write the ***<span style=\"color:blue\">date on top of a new page</span>*** each day of class\n",
    "1. Write down anything important you hear or ***<span style=\"color:blue\">notes and sketches</span>*** from any activity that day.\n",
    "1. Your ***<span style=\"color:blue\">notebooks will be graded periodically</span>*** for content and use"
   ]
  },
  {
   "cell_type": "markdown",
   "metadata": {
    "id": "HgvUlRQ7m9qo"
   },
   "source": [
    "### First we are going to form teams and elect captain for each team. \n",
    "Your team name will be sected from the combination of the text formed by <span style=\"color:blue\">***random adjective-random noun***</span> for example it could be <span style=\"color:red\">***lazy-ficus***"
   ]
  },
  {
   "cell_type": "code",
   "execution_count": 6,
   "metadata": {
    "id": "BdUM8xNptFjb"
   },
   "outputs": [
    {
     "name": "stdout",
     "output_type": "stream",
     "text": [
      "\n",
      "Printing all student names\n",
      "1. Kai\n",
      "2. Teoman\n",
      "3. Max\n",
      "4. Dagi\n",
      "5. Sidney\n",
      "6. Bing\n",
      "7. Maddie\n",
      "8. Declan\n",
      "9. Gus\n",
      "10. Vincent\n",
      "11. Luke\n"
     ]
    }
   ],
   "source": [
    "#@title Enter names of students in class { display-mode: \"form\" }\n",
    "\n",
    "input_string = \"Kai,Teoman,Max,Dagi,Sidney,Bing,Maddie,Declan,Gus,Vincent,Luke\"\n",
    "#input_string = input(\"Enter list of students separated by a comma \")\n",
    "\n",
    "#print(input_string)\n",
    "student_list  = input_string.split(\",\")\n",
    "nstudents = len(student_list)\n",
    "#print('Number of students set to ', nstudents)\n",
    "print(\"\\nPrinting all student names\")\n",
    "i=0\n",
    "for student in student_list:\n",
    "  i += 1\n",
    "  print(str(i) + \". \" + student)"
   ]
  },
  {
   "cell_type": "code",
   "execution_count": 7,
   "metadata": {
    "colab": {
     "base_uri": "https://localhost:8080/",
     "height": 34
    },
    "executionInfo": {
     "elapsed": 1357,
     "status": "ok",
     "timestamp": 1568065101187,
     "user": {
      "displayName": "Chandru Narayan",
      "photoUrl": "",
      "userId": "02717025086480664074"
     },
     "user_tz": 420
    },
    "id": "yGPY00tOnReg",
    "outputId": "6935cb0e-4f4c-4d79-9971-5c3fa5b1896f"
   },
   "outputs": [
    {
     "name": "stdout",
     "output_type": "stream",
     "text": [
      "Number of teams set to  4\n"
     ]
    }
   ],
   "source": [
    "#@title Number of teams in class { display-mode: \"form\" }\n",
    "\n",
    "teams = '4' \n",
    "nteams = int(teams)\n",
    "print('Number of teams set to ', nteams)"
   ]
  },
  {
   "cell_type": "code",
   "execution_count": 8,
   "metadata": {
    "id": "b3_OMLOmnSwA"
   },
   "outputs": [
    {
     "name": "stdout",
     "output_type": "stream",
     "text": [
      "['Sidney', 'Bing']\n",
      "['Luke', 'Gus', 'Maddie']\n",
      "['Max', 'Teoman', 'Dagi']\n",
      "['Declan', 'Kai', 'Vincent']\n"
     ]
    }
   ],
   "source": [
    "#@title Display random teams { display-mode: \"form\" }\n",
    "#input_string = input(\"Enter list of students separated by a comma \")\n",
    "#print(input_string)\n",
    "student_list  = input_string.split(\",\")\n",
    "#print(\"Printing all student names\")\n",
    "#for student in student_list:\n",
    "#    print(student)\n",
    "nstudents = len(student_list)\n",
    "nteams = int(teams)\n",
    "#print(nstudents)\n",
    "#print(nteams)\n",
    "import random\n",
    "while nstudents > 0 and nteams > 0:\n",
    "  team = random.sample(student_list, int(nstudents/nteams))\n",
    "  for x in team:\n",
    "    student_list.remove(x)\n",
    "  nstudents -= int(nstudents/nteams)\n",
    "  nteams -= 1\n",
    "  print(team)"
   ]
  },
  {
   "cell_type": "markdown",
   "metadata": {
    "id": "0lzRIV0zgF_t"
   },
   "source": [
    "### Team Exercise 1 Play Darts to calculate PI !! - Simply throw 12 Darts each\n",
    "1. Each member, including captain plays all 12 darts\n",
    "1. Team captains write in your notebook how many darts each member you got into the circular board, square, outside\n",
    "\n",
    "Captains notebook should have a table that look like the one below. Note, each row adds to 12"
   ]
  },
  {
   "cell_type": "markdown",
   "metadata": {},
   "source": [
    "Name|Inside Circle|Outside Circle - Inside Square|Outside Square\n",
    ":---:|:---:|:---:|:---:|\n",
    "dru|9|2|1\n",
    "gru|11|1|0\n",
    "totals for lazy-ficus|20|3|1"
   ]
  },
  {
   "cell_type": "markdown",
   "metadata": {},
   "source": [
    "<img src=\"https://chandrunarayan.github.io/fcsr/geometry/pi1.png\" align=\"left\" width=400 />\n",
    "Here we have a circular dart board with radius R inscribed in a square. If you threw <span style=\"color:red\"</span>A LOT OF DARTS</span> then Area = number of darts!\n",
    "\n",
    "$$Circle\\_Area={\\pi}\\times{R}^2$$\n",
    "\n",
    "$$Square\\_Area=(2\\times{R})^2$$\n",
    "\n",
    "$$\\frac{Square\\_Area}{Circle\\_Area}=\\frac{4\\times{R}^2}{\\pi\\times{R}^2}=\\frac{4}{\\pi}$$\n",
    "\n",
    "$$\\frac{Darts\\_in\\_Square}{Darts\\_in\\_Circle}=\\frac{4}{\\pi}$$\n",
    "\n",
    "1. What would be the value of PI using the values in the table in the equation above? (you will need to rearrange it!)\n",
    "1. <span style=\"color:blue\">Find your team's value of PI using a calculator and write it in your notebook!</span>  Which team came the closest to the corect value ??"
   ]
  },
  {
   "cell_type": "markdown",
   "metadata": {
    "id": "yg04AN6McocH"
   },
   "source": [
    "## ARE YOU READY TO HAVE FUN???\n",
    "\n",
    "### Write your first lines of code!\n",
    "### [Access this  link to create a login on Trinket and complete the course](https://trinket.io/chandru-narayan-9569/courses/fcsr-learn-python-with-turtles#/python-visual-programming/first-program)\n",
    "### We will plan to complete this Trinket course in the first 2 weeks!\n",
    "- Create a login using your Bush School email address\n",
    "- If you already have one at Trinket using your Bush School email, login using that\n",
    "- If your login is not using the Bush School email, create a new one with that"
   ]
  },
  {
   "cell_type": "markdown",
   "metadata": {
    "id": "8l9DIglsmYKD"
   },
   "source": [
    "## Watch the following video as Homework"
   ]
  },
  {
   "cell_type": "code",
   "execution_count": 5,
   "metadata": {
    "colab": {
     "base_uri": "https://localhost:8080/",
     "height": 564
    },
    "executionInfo": {
     "elapsed": 196,
     "status": "ok",
     "timestamp": 1567989240896,
     "user": {
      "displayName": "Chandru Narayan",
      "photoUrl": "",
      "userId": "02717025086480664074"
     },
     "user_tz": 420
    },
    "id": "6MHmTbZgnQ_a",
    "outputId": "4c19469d-eb02-40d6-85e0-7db842892ee5"
   },
   "outputs": [
    {
     "name": "stderr",
     "output_type": "stream",
     "text": [
      "/opt/tljh/user/lib/python3.9/site-packages/IPython/core/display.py:419: UserWarning: Consider using IPython.display.IFrame instead\n",
      "  warnings.warn(\"Consider using IPython.display.IFrame instead\")\n"
     ]
    },
    {
     "data": {
      "text/html": [
       "<iframe width=\"929\" height=\"523\" src=\"https://www.youtube.com/embed/CvSOaYi89B4\" frameborder=\"0\" allow=\"accelerometer; autoplay; encrypted-media; gyroscope; picture-in-picture\" allowfullscreen></iframe>"
      ],
      "text/plain": [
       "<IPython.core.display.HTML object>"
      ]
     },
     "execution_count": 5,
     "metadata": {},
     "output_type": "execute_result"
    }
   ],
   "source": [
    "#@title What is an Algorithm? { display-mode: \"form\" }\n",
    "#@markdown \n",
    "from IPython.display import HTML\n",
    "# Vimeo\n",
    "\n",
    "HTML('<iframe width=\"929\" height=\"523\" src=\"https://www.youtube.com/embed/CvSOaYi89B4\" frameborder=\"0\" allow=\"accelerometer; autoplay; encrypted-media; gyroscope; picture-in-picture\" allowfullscreen></iframe>')\n",
    "\n"
   ]
  }
 ],
 "metadata": {
  "accelerator": "GPU",
  "colab": {
   "provenance": []
  },
  "kernelspec": {
   "display_name": "Python 3 (ipykernel)",
   "language": "python",
   "name": "python3"
  },
  "language_info": {
   "codemirror_mode": {
    "name": "ipython",
    "version": 3
   },
   "file_extension": ".py",
   "mimetype": "text/x-python",
   "name": "python",
   "nbconvert_exporter": "python",
   "pygments_lexer": "ipython3",
   "version": "3.9.13"
  }
 },
 "nbformat": 4,
 "nbformat_minor": 4
}
