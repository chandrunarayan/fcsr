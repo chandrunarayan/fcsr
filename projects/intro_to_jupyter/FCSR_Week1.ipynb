{
 "cells": [
  {
   "cell_type": "markdown",
   "metadata": {
    "id": "skaK8sjjpTcq"
   },
   "source": [
    "<p><img alt=\"Bush logo\" height=\"45px\" src=\"http://chandrunarayan.github.io/fcsr/bush_logo.png\" align=\"left\" hspace=\"10px\" vspace=\"0px\"></p>\n",
    "\n",
    "<h1>Fundamentals of Computing for Researchers</h1>\n",
    "\n",
    "\n",
    "Learn the computing skills needed to be an effective learner & researcher.\n",
    "\n",
    "This course is designed to introduce computing as a basic set of skills that everyone needs, regardless of whether you are Learner or Teacher (we are all both !!). I would like to think we are all \"Researchers\" - curious about the changing world around us. It is not just enough to be curious, right? We want to observe, process what we learn in a way that becomes part of our \"story\".\n",
    "\n",
    "\n",
    "---\n",
    "\n",
    "My name is Chandru Narayan You can call me \"Chandru\". I am a Mechanical Engineer and I love Science, Math, and Computing. I also love to teach! I retired after 33 years in Automotive and Aerospace companies so I can teach computing, astronomy, science and math.  I am excited to be teaching the Fundamentals of Computing for Researchers class and to get to know you all better. \n",
    "\n",
    "I am a Cyclist and Runner. I like to climb mountains on my bicycle. Here I am climbing a steep mountain in the Pyrenees, France."
   ]
  },
  {
   "cell_type": "code",
   "execution_count": 1,
   "metadata": {
    "colab": {
     "base_uri": "https://localhost:8080/",
     "height": 445
    },
    "executionInfo": {
     "elapsed": 8,
     "status": "ok",
     "timestamp": 1672005863202,
     "user": {
      "displayName": "Chandru Narayan",
      "userId": "02717025086480664074"
     },
     "user_tz": 480
    },
    "id": "zxCOT2NWWFK4",
    "outputId": "4e8b6da3-1741-4a87-e663-a0574593dbb1"
   },
   "outputs": [
    {
     "data": {
      "text/html": [
       "<iframe src=\"https://player.vimeo.com/video/357446928?title=0&byline=0&portrait=0\" width=\"700\" height=\"394\" frameborder=\"0\" webkitallowfullscreen mozallowfullscreen allowfullscreen></iframe><p><a href=\"https://vimeo.com/357446928\"></a>.</p>"
      ],
      "text/plain": [
       "<IPython.core.display.HTML object>"
      ]
     },
     "execution_count": 1,
     "metadata": {},
     "output_type": "execute_result"
    }
   ],
   "source": [
    "from IPython.display import HTML\n",
    "HTML('<iframe src=\"https://player.vimeo.com/video/357446928?title=0&byline=0&portrait=0\" width=\"700\" height=\"394\" frameborder=\"0\" webkitallowfullscreen mozallowfullscreen allowfullscreen></iframe><p><a href=\"https://vimeo.com/357446928\"></a>.</p>')"
   ]
  },
  {
   "cell_type": "markdown",
   "metadata": {
    "id": "I4ojYypfpf1O"
   },
   "source": [
    "I have been riding my bicycle to raise money for child abuse prevention. I just finished my ride last month for the 15th consecutive year. "
   ]
  },
  {
   "cell_type": "markdown",
   "metadata": {
    "id": "Jieshxge3g6X"
   },
   "source": [
    "#### Now it is your turn to introduce yourself!\n",
    "##### 1. Tell me your name and any preferred pronouns\n",
    "##### 2. Why did you choose to take this class?\n",
    "##### 3. What is the most important thing you want from this class?\n",
    "##### 4. What you you looking for the most from me?\n",
    "##### 5. What are your interests and hobbies?\n",
    "##### 6. What subjects are your favourite?\n",
    "##### 7. What do you like to read?\n",
    "##### 8. What do you do for fun outside?\n",
    "##### 9. What is your favourite food?\n",
    "##### 10. Any questions for me? - anything is OK to ask, but I may not have all the answers!\n",
    "\n"
   ]
  },
  {
   "cell_type": "markdown",
   "metadata": {
    "id": "HgvUlRQ7m9qo"
   },
   "source": [
    "### First we are going to form teams"
   ]
  },
  {
   "cell_type": "code",
   "execution_count": 2,
   "metadata": {
    "id": "BdUM8xNptFjb"
   },
   "outputs": [
    {
     "name": "stdin",
     "output_type": "stream",
     "text": [
      "Enter list of students separated by a comma  Kai,Teoman,Max,Dagi,Sidney,Bing,Maddie,Declan,Gus,Vincent,Luke,Asher\n"
     ]
    },
    {
     "name": "stdout",
     "output_type": "stream",
     "text": [
      "Printing all student names\n",
      "1. Kai\n",
      "2. Teoman\n",
      "3. Max\n",
      "4. Dagi\n",
      "5. Sidney\n",
      "6. Bing\n",
      "7. Maddie\n",
      "8. Declan\n",
      "9. Gus\n",
      "10. Vincent\n",
      "11. Luke\n",
      "12. Asher\n"
     ]
    }
   ],
   "source": [
    "#@title Enter names of students in class { display-mode: \"form\" }\n",
    "\n",
    "# Kai,Teoman,Max,Dagi,Sidney,Bing,Maddie,Declan,Gus,Vincent,Luke,Asher\n",
    "input_string = input(\"Enter list of students separated by a comma \")\n",
    "\n",
    "#print(input_string)\n",
    "student_list  = input_string.split(\",\")\n",
    "nstudents = len(student_list)\n",
    "#print('Number of students set to ', nstudents)\n",
    "print(\"Printing all student names\")\n",
    "i=0\n",
    "for student in student_list:\n",
    "  i += 1\n",
    "  print(str(i) + \". \" + student)\n",
    "\n",
    "\n"
   ]
  },
  {
   "cell_type": "code",
   "execution_count": 8,
   "metadata": {
    "colab": {
     "base_uri": "https://localhost:8080/",
     "height": 34
    },
    "executionInfo": {
     "elapsed": 1357,
     "status": "ok",
     "timestamp": 1568065101187,
     "user": {
      "displayName": "Chandru Narayan",
      "photoUrl": "",
      "userId": "02717025086480664074"
     },
     "user_tz": 420
    },
    "id": "yGPY00tOnReg",
    "outputId": "6935cb0e-4f4c-4d79-9971-5c3fa5b1896f"
   },
   "outputs": [
    {
     "name": "stdout",
     "output_type": "stream",
     "text": [
      "Number of teams set to  5\n"
     ]
    }
   ],
   "source": [
    "#@title Number of teams in class { display-mode: \"form\" }\n",
    "\n",
    "teams = '5' \n",
    "nteams = int(teams)\n",
    "print('Number of teams set to ', nteams)"
   ]
  },
  {
   "cell_type": "code",
   "execution_count": 9,
   "metadata": {
    "id": "b3_OMLOmnSwA"
   },
   "outputs": [
    {
     "name": "stdout",
     "output_type": "stream",
     "text": [
      "['Maddie', 'Declan']\n",
      "['Gus', 'Bing']\n",
      "['Dagi', 'Teoman']\n",
      "['Kai', 'Vincent', 'Luke']\n",
      "['Max', 'Sidney', 'Asher']\n"
     ]
    }
   ],
   "source": [
    "#@title Display random teams { display-mode: \"form\" }\n",
    "#input_string = input(\"Enter list of students separated by a comma \")\n",
    "#print(input_string)\n",
    "student_list  = input_string.split(\",\")\n",
    "#print(\"Printing all student names\")\n",
    "#for student in student_list:\n",
    "#    print(student)\n",
    "nstudents = len(student_list)\n",
    "nteams = int(teams)\n",
    "#print(nstudents)\n",
    "#print(nteams)\n",
    "import random\n",
    "while nstudents > 0 and nteams > 0:\n",
    "  team = random.sample(student_list, int(nstudents/nteams))\n",
    "  for x in team:\n",
    "    student_list.remove(x)\n",
    "  nstudents -= int(nstudents/nteams)\n",
    "  nteams -= 1\n",
    "  print(team)"
   ]
  },
  {
   "cell_type": "markdown",
   "metadata": {
    "id": "0lzRIV0zgF_t"
   },
   "source": [
    "# Team Exercises"
   ]
  },
  {
   "cell_type": "code",
   "execution_count": 10,
   "metadata": {
    "colab": {
     "base_uri": "https://localhost:8080/",
     "height": 315
    },
    "executionInfo": {
     "elapsed": 2960,
     "status": "ok",
     "timestamp": 1580661933419,
     "user": {
      "displayName": "Chandru Narayan",
      "photoUrl": "",
      "userId": "02717025086480664074"
     },
     "user_tz": 480
    },
    "id": "CNyOh1Jlf-2T",
    "outputId": "bb8796f3-25bb-440a-9190-6e9fa27216ed"
   },
   "outputs": [
    {
     "data": {
      "image/png": "[encoded data removed]",
      "text/plain": [
       "<Figure size 400x400 with 1 Axes>"
      ]
     },
     "metadata": {},
     "output_type": "display_data"
    },
    {
     "name": "stdout",
     "output_type": "stream",
     "text": [
      "--- 7.4267332553863525 seconds ---\n"
     ]
    }
   ],
   "source": [
    "#@title Derive PI from a circle inscribed in a square { display-mode: \"form\" }\n",
    "import random,math,time\n",
    "import matplotlib.pyplot as plt\n",
    "\n",
    "start_time = time.time()\n",
    "plt.figure(figsize=(4,4))\n",
    "\n",
    "totalThrows=500   # how many times we throw the dart\n",
    "throwsInsideCircle = 0 # starting value for a counter\n",
    "throwsOutsideCircle = 0\n",
    "for throw in range(totalThrows): # loop\n",
    "  x = random.random()*2 -1 # a random x value between [-1,1]\n",
    "  y = random.random()*2 -1 # random y value\n",
    "\n",
    "  if(x*x + y*y <= 1.0): # if inside the circle (distance squared)\n",
    "    throwsInsideCircle += 1 \n",
    "    plt.scatter(x, y, color='darkgreen')\n",
    "  else:\n",
    "    throwsOutsideCircle += 1\n",
    "    plt.scatter(x, y, color='red')\n",
    "    \n",
    "# all done, compute pi\n",
    "pi = (4.0*throwsInsideCircle)/totalThrows\n",
    "#print(pi) \n",
    "#print(\"--- %s seconds ---\" % (time.time() - start_time))\n",
    "\n",
    "plt.title('throws = ' + str(totalThrows) + '  calculated pi = ' + str(pi))\n",
    "plt.show()\n",
    "print(\"--- %s seconds ---\" % (time.time() - start_time))"
   ]
  },
  {
   "cell_type": "markdown",
   "metadata": {},
   "source": [
    "![alt text](https://chandrunarayan.github.io/fcsr/geometry/pi1.png)\n",
    "![alt text](https://chandrunarayan.github.io/fcsr/geometry/pi2.png)"
   ]
  },
  {
   "cell_type": "markdown",
   "metadata": {},
   "source": [
    "![alt text](https://chandrunarayan.github.io/fcsr/geometry/arcta.png)\n",
    "![alt text](https://chandrunarayan.github.io/fcsr/geometry/pi2.png)"
   ]
  },
  {
   "cell_type": "code",
   "execution_count": 11,
   "metadata": {
    "colab": {
     "base_uri": "https://localhost:8080/",
     "height": 286
    },
    "executionInfo": {
     "elapsed": 1318,
     "status": "ok",
     "timestamp": 1580662176499,
     "user": {
      "displayName": "Chandru Narayan",
      "photoUrl": "",
      "userId": "02717025086480664074"
     },
     "user_tz": 480
    },
    "id": "g6ANaMl1gRZ1",
    "outputId": "04858afd-9f82-483f-dc7f-fe4c9a37fe68"
   },
   "outputs": [
    {
     "name": "stdout",
     "output_type": "stream",
     "text": [
      "PI is 3.1420924036835256\n"
     ]
    },
    {
     "data": {
      "image/png": "[encoded data removed]",
      "text/plain": [
       "<Figure size 640x480 with 1 Axes>"
      ]
     },
     "metadata": {},
     "output_type": "display_data"
    }
   ],
   "source": [
    "#@title Derive PI from The Arctangent of 45 (Pi/4 radians) { display-mode: \"form\" }\n",
    "\n",
    "import matplotlib.pyplot as plt\n",
    "maxterms=1000\n",
    "\n",
    "# how many terms we calculate\n",
    "exp = 3\n",
    "sums = 1\n",
    "term = 1\n",
    "while (maxterms>0):\n",
    "    sums -= 1/exp\n",
    "    exp += 2\n",
    "    sums += 1/exp\n",
    "#    print ('term ' + str(term) + ' is ' + str(4*sums))\n",
    "    term += 1\n",
    "    exp += 2\n",
    "    maxterms -= 1\n",
    "    plt.scatter(term, 4*sums) \n",
    "\n",
    "print ('PI is ' + str(4*sums))\n",
    "plt.ylim(3.1,3.5)\n",
    "plt.show()    "
   ]
  },
  {
   "cell_type": "markdown",
   "metadata": {
    "id": "hD3Oq5yBzQVB"
   },
   "source": [
    "## COURSE DESCRIPTION\n",
    "\n",
    "This course is designed to introduce computing as a basic set of skills that everyone needs, regardless of whether you are Learner or Teacher (we are all both !!). I would like to think we are all \"Researchers\" - curious about the changing world around us. It is not just enough to be curious, right? We want to observe, process what we learn in a way that becomes part of our \"story\". \n",
    "\n",
    "## The Scientific Method:\n",
    "- Observe - Be curious always about people and the world around you!\n",
    "- Question - Be an analytical thinker, why do things work the way they do?\n",
    "- Hypothesize - Discover/invent the mechanisms behind what you observe\n",
    "- Predict - Based on yoru theory, can you predict a future event?\n",
    "- Experiment - Run an experiement to see if your theory is correct\n",
    "- Iterate - If not go back and make more Observarions!\n",
    "\n",
    "## Desired Outcomes - Problem Solving Skills!\n",
    "- Algorithmic Thinking\n",
    "- Work on project teams\n",
    "- Problem solving\n",
    "- Python programming language\n",
    "- Graphical data representation\n",
    "- Jupyter Notebooks, Markdown\n",
    "- Device programming using Raspberry PI \n",
    "- Research Portfolios\n",
    "- Presentation to peers\n",
    "\n",
    "## Course Materials \n",
    "\n",
    "### Software\n",
    "- Online Courses\n",
    "- Google Colab (https://colab.research.google.com/)\n",
    "- GitHub (https://github.com/)\n",
    "- Mu-Editor (https://codewith.mu)\n",
    "- Jupyter Notebook (https://jupyter.org/)\n",
    "- Trinket (https://trinket.io/)\n",
    "- PopFizz (https://popfizz.io/)\n",
    "\n",
    "### Texts:\n",
    "- CS for All (http://www.cs.hmc.edu/csforall/)\n",
    "- Think Python (http://greenteapress.com/thinkpython2/thinkpython2.pdf)\n",
    "- Python Tutorials (https://pythonprogramming.net/)\n",
    "\n",
    "### Supplies\n",
    "- Laptop\n",
    "- Raspberry Pi Kit per team of 3\n",
    "- Notebook\n",
    "\n",
    "\n",
    "## Expectations\n",
    "- Bring all course materials to class everyday.\n",
    "- Arrive to class on time and be ready to begin immediately. \n",
    "- Open your computer and be ready to have fun!\n",
    "\n",
    "## Absences:\n",
    "- If you have a planned absence from school (such as commons duty, sport’s game, or doctor’s appointment), you should inform me before the absence.\n",
    "- For any absence (planned or unplanned), you are responsible for checking the portal and asking a classmate about missed information ideally prior to the next class meeting.\n",
    "- This class will have you in charge of managing a lot of your own work. You need to be an independent worker!\n",
    "- Take care of other business outside of the classroom and expect to be working for the full period. You will be working on your laptop regularly and with your classmates. Class time is not a time to check e-mail, peruse social media, etc. Don’t cheat yourself of valuable class time to ask questions and work with your peers.\n",
    "- Working together is a great way to learn computer programming. However, if you find that working with peers is less like collaboration and more like appropriation, please talk to me so that we can make a plan so that you can do your best work. The earlier you speak up, the easier it is to fix!\n",
    "\n",
    "## Coursework and Grading\n",
    "\n",
    "### Problem Sets: \n",
    "The majority of class time will be spent completing problem sets to practice and reinforce new concepts. A small set of problems will be due approximately once a week. It is your responsibility to use class time to make sure you successfully meet the requirements of these problems. Then, as time allows, you should challenge yourself to add optional features. My expectation is that everyone will receive full credit for class problems. You have two additional class periods after the problem set is returned with comments to make corrections and earn full credit. Please note that when given this second chance, I will expect excellence. If using this safety net becomes a pattern, i.e. more than once every few weeks, you will lose the opportunity to correct the assignments until you have demonstrated a willingness and desire to improve your diligence.One point will be taken off for late assignments. \n",
    "\n",
    "### Grading Rubric:\n",
    "\n",
    "Problem Sets\n",
    "- 3: Mastering-  You solved the problem perfectly.\n",
    "- 2: Approaching-  You’re on the right track, but made a tiny error or introduced a small bug.\n",
    "- 1: Emerging-  You tried something, but started off on the wrong track or ended up with an invalid answer.\n",
    "- 0: Nothing to assess-  You didn’t start the assignment, or you did so little as to be of no benefit to understanding.\n",
    "\n",
    "Readings/HW\n",
    "- In general, your assigned homework will be readings from the online texts and articles. When reading contemporary science articles, you will be required to prepare a response to one or two related prompts which we will discuss the following class period.\n",
    "\n",
    "Research Notebook\n",
    "- Throughout the course, students will develop a digital research log using Google Colab, Jupyter notebook and publish results to Github.  This digital record is a hybrid document of static text, images, and dynamic active elements such as code extracts and visualizations. This will give you ample opportunity to be creative, embed images, video and graphical representations of data before submission. \n",
    "- Student progress will be monitored on a regular basis and feedback provided for additional content as needed. A mid-term and a summative assessment will be provided.\n",
    "\n",
    "Team Projects\n",
    "- There will be 2 team projects you will complete this term. Rubrics for the team projects will be provided ahead of time. \n",
    "- Significant class time will be allotted for projects, however sometimes you will need to spend time at home working on exercises or projects.  \n",
    "\n",
    "Class Participation\n",
    "- As you will be completing your problem sets and projects in consultation with your instructor and your classmates as needed, class participation is an essential quality to overall success in this course. \n",
    "- Class participation is not graded as such, but will affect your overall skills development as a Researcher on a team!\n",
    "\n",
    "## Term Grades\n",
    "\n",
    "- 10% Readings/HW\t\t  \n",
    "- 20% Problem Sets \t\t  \n",
    "- 40% Team Projects \t \n",
    "- 20% Final Presentations \n",
    "- 10% Research Notebook\t\n",
    "\n",
    "## Schedule\n",
    "### Class Hours\n",
    "-  1:40 - 3:10  PM  Monday       Instruction Day\n",
    "-  9:30 - 10:10 PM  Wednesday\t\t Review/Workshop Day\n",
    "- 11:10 - 12:40 PM\tThursday \t   Instruction Day\n",
    "\n",
    "### Office Hours\n",
    "I encourage you to see me outside of class. I will be available in TBD for conference at the following times. I am happy to make arrangements to meet at other times if needed.\n",
    "- Monday thru Thursday:\t1:20 to 1:40 PM\n",
    "- Monday and Wednesday: 3:10 to 3:30 PM \n",
    "\n",
    "## Syllabus\n",
    "- Week 1 :  Trinket, Google Colab, Jupyter Notebook, Github\n",
    "- Week 2:   Variables, Expressions, Arithmetic, Input/Output\n",
    "- Week 3:   Conditionals, Loops, Functions, Lists\n",
    "- Week 4:   Strings, State Machines, Files \n",
    "- Week 5:   Project 1 - Scale of the Universe - Henrietta Swan Lewis\n",
    "- Week 6:   Project 1 - Scale of the Universe - Henrietta Swan Lewis\n",
    "- Week 7:   Mid-term Presentation and Notebook Assessment\n",
    "- Week 8:   Programming with Raspberry PI\n",
    "- Week 9:   Programming with Raspberry PI\n",
    "- Week 10: Project 2 - Build a Spectroscope - Analyze Emission/Absorption Spectrum \n",
    "- Week 11: Project 2 - Build a Spectroscope - Analyze Emission/Absorption Spectrum\n",
    "- Week 12: Catch up Thanksgiving Break\n",
    "- Week 13: Catch-up and Assessment \n",
    "- Week 14: Final Presentation and Assessments\n",
    "\n",
    "\n",
    "## Attribution\n",
    "The curriculum for this course is adapted from \n",
    "- CSE 231: Intro to CS, Richard Enbody, Michigan State University\n",
    "- MIT Open Courseware\n",
    "- CS 5: Introduction to Computer Science, Harvey Mudd College, Zachary Dodds\n"
   ]
  },
  {
   "cell_type": "markdown",
   "metadata": {
    "id": "AtiaJ-hDrSTX"
   },
   "source": [
    "## Look through the Spectroscope\n",
    "## [Spectral Lines Wikipedia Page](https://en.wikipedia.org/wiki/Spectral_line)"
   ]
  },
  {
   "cell_type": "markdown",
   "metadata": {
    "id": "_t_DZHK7qZiC"
   },
   "source": [
    "#The Scientific Method and the discovery of the Spectrum\n",
    "* Observe - Be curious always about people and the world around you!\n",
    "* Question - Be an analytical thinker, why do things work the way they do?\n",
    "* Hypothesize - Discover/invent the mechanisms behind what you observe\n",
    "* Predict - Based on yoru theory, can you predict a future event?\n",
    "* Experiment - Run an experiement to see if your theory is correct\n",
    "* Iterate - If not go back and make more Observarions!\n"
   ]
  },
  {
   "cell_type": "markdown",
   "metadata": {
    "id": "yg04AN6McocH"
   },
   "source": [
    "# ARE YOU READY TO HAVE FUN???\n",
    "\n",
    "## Write your first lines of code!\n",
    "### Access the following link to create a login on Trinket\n",
    "https://hourofpython.trinket.io/a-visual-introduction-to-python\n",
    "\n"
   ]
  },
  {
   "cell_type": "markdown",
   "metadata": {
    "id": "99UeeCgnh7DK"
   },
   "source": [
    "- Create a login using your Bush School email address\n",
    "- If you already have one at Trinket using your Bush School email, login using that\n",
    "- If your login is not using the Bush School email, create a new one with that\n"
   ]
  },
  {
   "cell_type": "markdown",
   "metadata": {
    "id": "8l9DIglsmYKD"
   },
   "source": [
    "# Watch the following video as Homework\n",
    "# We will complete this Trinket course in the first 3 weeks!"
   ]
  },
  {
   "cell_type": "code",
   "execution_count": 12,
   "metadata": {
    "colab": {
     "base_uri": "https://localhost:8080/",
     "height": 564
    },
    "executionInfo": {
     "elapsed": 196,
     "status": "ok",
     "timestamp": 1567989240896,
     "user": {
      "displayName": "Chandru Narayan",
      "photoUrl": "",
      "userId": "02717025086480664074"
     },
     "user_tz": 420
    },
    "id": "6MHmTbZgnQ_a",
    "outputId": "4c19469d-eb02-40d6-85e0-7db842892ee5"
   },
   "outputs": [
    {
     "data": {
      "text/html": [
       "<iframe width=\"929\" height=\"523\" src=\"https://www.youtube.com/embed/CvSOaYi89B4\" frameborder=\"0\" allow=\"accelerometer; autoplay; encrypted-media; gyroscope; picture-in-picture\" allowfullscreen></iframe>"
      ],
      "text/plain": [
       "<IPython.core.display.HTML object>"
      ]
     },
     "execution_count": 12,
     "metadata": {},
     "output_type": "execute_result"
    }
   ],
   "source": [
    "#@title What is an Algorithm? { display-mode: \"form\" }\n",
    "#@markdown \n",
    "from IPython.display import HTML\n",
    "# Vimeo\n",
    "\n",
    "HTML('<iframe width=\"929\" height=\"523\" src=\"https://www.youtube.com/embed/CvSOaYi89B4\" frameborder=\"0\" allow=\"accelerometer; autoplay; encrypted-media; gyroscope; picture-in-picture\" allowfullscreen></iframe>')\n",
    "\n"
   ]
  },
  {
   "cell_type": "code",
   "execution_count": null,
   "metadata": {},
   "outputs": [],
   "source": []
  },
  {
   "cell_type": "code",
   "execution_count": null,
   "metadata": {},
   "outputs": [],
   "source": []
  },
  {
   "cell_type": "code",
   "execution_count": null,
   "metadata": {},
   "outputs": [],
   "source": []
  },
  {
   "cell_type": "code",
   "execution_count": null,
   "metadata": {},
   "outputs": [],
   "source": []
  }
 ],
 "metadata": {
  "accelerator": "GPU",
  "colab": {
   "provenance": []
  },
  "kernelspec": {
   "display_name": "Python 3 (ipykernel)",
   "language": "python",
   "name": "python3"
  },
  "language_info": {
   "codemirror_mode": {
    "name": "ipython",
    "version": 3
   },
   "file_extension": ".py",
   "mimetype": "text/x-python",
   "name": "python",
   "nbconvert_exporter": "python",
   "pygments_lexer": "ipython3",
   "version": "3.9.13"
  }
 },
 "nbformat": 4,
 "nbformat_minor": 4
}
