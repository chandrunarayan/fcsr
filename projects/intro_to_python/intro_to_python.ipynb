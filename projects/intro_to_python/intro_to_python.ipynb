{
 "cells": [
  {
   "cell_type": "markdown",
   "id": "8fab3e7d-f5c5-4a1d-b4a5-fca52d977b65",
   "metadata": {},
   "source": [
    "## FCSR Fundamentals of Computing Course\n",
    "### Introduction to Python\n",
    "1. Operations\n",
    "1. Variables\n",
    "1. Conditionals\n",
    "1. Loops\n",
    "1. Lists\n",
    "1. Arrays and Numpy Arrays\n",
    "1. Simple Plotting"
   ]
  },
  {
   "cell_type": "markdown",
   "id": "2aca1ed6-5521-4ac1-9c31-c3d9be08e918",
   "metadata": {},
   "source": [
    "### Learn basic operations in Python"
   ]
  },
  {
   "cell_type": "code",
   "execution_count": null,
   "id": "8196bd47-8476-4915-8edd-8c0bc9c152c1",
   "metadata": {},
   "outputs": [],
   "source": [
    "# Basic Operations in Python\n",
    "\n",
    "# use the python function 'print' to print the output\n",
    "print(2 + 2)\n",
    "print(2 * 2)\n",
    "print(2 / 2)\n",
    "print(2 - 2 * 7)  # Order of operations matters\n",
    "print((2 - 2) * 7)\n",
    "print(f\"remainder of 24/7 is:{24%7}\")\n",
    "print(f\"quotient of 24/7 is:{24/7}\")"
   ]
  },
  {
   "cell_type": "code",
   "execution_count": null,
   "id": "c22d032a-548f-4c6f-b352-f8868b84f46b",
   "metadata": {},
   "outputs": [],
   "source": [
    "# Variables and Assignments\n",
    "a = 2 + 2\n",
    "print(f'a is: {a}')\n",
    "a = 20\n",
    "print(f'modified a is {a}')"
   ]
  },
  {
   "cell_type": "code",
   "execution_count": null,
   "id": "abbea230-1bdf-42af-ac44-0609b5fe1924",
   "metadata": {},
   "outputs": [],
   "source": [
    "# Conditionals if-else\n",
    "# Conditional operators are == >= <= && ||\n",
    "a = -5\n",
    "if a < 4:\n",
    "    print(f\"{a} is less than 4\")\n",
    "else:\n",
    "    print(f\"{a} is greater than or equal to 4\")"
   ]
  },
  {
   "cell_type": "code",
   "execution_count": null,
   "id": "622de9c3-88e6-460e-bca0-2e848dfdabb6",
   "metadata": {},
   "outputs": [],
   "source": [
    "# Conditionals if-elif-else\n",
    "# Conditional operators are == >= <= and or\n",
    "## if cash is less than 5 bucks - I cannot buy anything to eat :(\n",
    "## if cash is greater than equal to 5 and less than 15 bucks - I can buy lunch but not dinner!\n",
    "## if cash is greater than equal to 15 bucks - I can buy dinner!\n",
    "cash = 4\n",
    "if cash < 5:\n",
    "    print(f\"I have {cash} bucks, I cannot buy anything to eat :(\")\n",
    "elif cash >= 5 and cash < 15: \n",
    "    print(f\"I have {cash} bucks, I can buy lunch but not dinner!\")\n",
    "else:\n",
    "    print(f\"I have {cash} bucks, I can buy dinner!\")"
   ]
  },
  {
   "cell_type": "markdown",
   "id": "f701f87d-68d2-4fbc-9496-9df1cc383a90",
   "metadata": {},
   "source": [
    "### Create a code cell below and write code for the following\n",
    "1. if grade is less than equal to 50 print I have a grade F\n",
    "1. if grade is between 50 and less than 70 print I have a grade C\n",
    "1. if grade is between 70 and less than 90 print I have a grade B\n",
    "1. if grade is greater than or equal to 90 I have a grade A"
   ]
  },
  {
   "cell_type": "code",
   "execution_count": null,
   "id": "a95f1c51-cbf7-496f-9b0f-07b3f797d731",
   "metadata": {},
   "outputs": [],
   "source": []
  },
  {
   "cell_type": "markdown",
   "id": "7c6f06dc-dc19-43f1-aa02-71978d1bdb0f",
   "metadata": {},
   "source": [
    "### Learn basic Loops in Python"
   ]
  },
  {
   "cell_type": "code",
   "execution_count": null,
   "id": "4f198609-601b-4bf6-bf1d-47dd8d0c7ef6",
   "metadata": {},
   "outputs": [],
   "source": [
    "for idx in range(10):\n",
    "    print(f\"line {idx+1} : hello world\")"
   ]
  },
  {
   "cell_type": "code",
   "execution_count": null,
   "id": "163fade6-edde-4b06-9d6d-7a3885149563",
   "metadata": {},
   "outputs": [],
   "source": [
    "# Loops\n",
    "count = 0  # Initialize the variable \"count\"\n",
    "\n",
    "# Add all the numbers 1-10\n",
    "for ii in range(10):  # note that range(10) = [0, 2, ..., 9]\n",
    "    count += ii # indicate a code block to loop over by indenting the code lines\n",
    "                # note increment operator same as count = count + ii\n",
    "    \n",
    "print(count)\n"
   ]
  },
  {
   "cell_type": "markdown",
   "id": "c74cbe8e-d1e5-40e9-ba56-74dc2f293fee",
   "metadata": {},
   "source": [
    "### Is this correct?? - If not how will you fix it? - write a code cell below"
   ]
  },
  {
   "cell_type": "code",
   "execution_count": null,
   "id": "19f5597b-a585-4f30-a5c0-b9aef96bc47e",
   "metadata": {},
   "outputs": [],
   "source": []
  },
  {
   "cell_type": "markdown",
   "id": "56a35d68-8e5e-4b84-9946-7eb05755b73a",
   "metadata": {},
   "source": [
    "### Learn basic Lists in Python"
   ]
  },
  {
   "cell_type": "code",
   "execution_count": null,
   "id": "99500a33-d976-4f86-aa7f-2bf01cefae2e",
   "metadata": {},
   "outputs": [],
   "source": [
    "# Lists\n",
    "thislist = [\"apple\", \"banana\", \"cherry\"]\n",
    "print(thislist)\n",
    "thislist = [\"apple\", \"banana\", \"cherry\", \"pear\", \"mango\"]\n",
    "print(f'now thislist = {thislist}')\n",
    "print(f'length is: {len(thislist)}')\n",
    "\n",
    "# get an item from list\n",
    "first = thislist[0]\n",
    "print(f'first item is {first}')\n",
    "print(f'fourth item is {thislist[3]}')\n",
    "\n",
    "# replace 2nd item\n",
    "thislist[1] = \"kiwi\"\n",
    "print(thislist)"
   ]
  },
  {
   "cell_type": "code",
   "execution_count": null,
   "id": "c3d73829-2b5c-4a99-9520-e460cd3bbaef",
   "metadata": {},
   "outputs": [],
   "source": [
    "# looping through a list\n",
    "# Modify the print statement below to print each item on a line with the item number\n",
    "# like so ...\n",
    "#1. Item#1 is apple\n",
    "#2. Item#2 is kiwi etc.\n",
    "i = 0\n",
    "for x in thislist:\n",
    "    print(x)"
   ]
  },
  {
   "cell_type": "code",
   "execution_count": null,
   "id": "e3b503ae-20bc-48c2-a349-f69428399a34",
   "metadata": {},
   "outputs": [],
   "source": [
    "# Lists can have numbers too\n",
    "x = [1, 2, 3, 4]\n",
    "print(x)\n",
    "y = [1, 4, 9, 16]\n",
    "print(y)"
   ]
  },
  {
   "cell_type": "code",
   "execution_count": null,
   "id": "b3680d48-07ba-4df9-b3ae-8e4e98cb46a7",
   "metadata": {},
   "outputs": [],
   "source": [
    "# A numpy array - A type of array to hold lots of numbers and fast calculations\n",
    "import numpy as np\n",
    "\n",
    "arr = np.array([1, 2, 3, 4, 5, 6, 7, 8, 9, 10])\n",
    "\n",
    "print(arr)"
   ]
  },
  {
   "cell_type": "code",
   "execution_count": null,
   "id": "793a4677-86db-4588-9ee5-92736c7dfccf",
   "metadata": {},
   "outputs": [],
   "source": [
    "print(arr[0])\n",
    "print(f'fourth element is {arr[3]}')"
   ]
  },
  {
   "cell_type": "code",
   "execution_count": null,
   "id": "a3a63183-a6eb-4061-bac2-a54ccc51c14d",
   "metadata": {},
   "outputs": [],
   "source": [
    "# array slicing\n",
    "print(arr[1:4])\n",
    "print(arr[3:])\n",
    "print(arr[2:4])"
   ]
  },
  {
   "cell_type": "markdown",
   "id": "9b313911-cdf9-4c41-a820-a5a69a4b5061",
   "metadata": {},
   "source": [
    "### Can you print a slice of items 3 to 9? below?"
   ]
  },
  {
   "cell_type": "code",
   "execution_count": null,
   "id": "11e25345-4a3b-419f-98e8-40956812c7c6",
   "metadata": {},
   "outputs": [],
   "source": []
  },
  {
   "cell_type": "markdown",
   "id": "a2209386-5c30-4786-892d-87019cc55a79",
   "metadata": {},
   "source": [
    "### Learn basic Numpy Arrays in Python"
   ]
  },
  {
   "cell_type": "code",
   "execution_count": null,
   "id": "674dd25c-511f-4338-90e3-a624a0cfdc2d",
   "metadata": {},
   "outputs": [],
   "source": [
    "# create arrays of numbers\n",
    "a1 = np.arange(1,10) # the arange method defines a range of numbers starting at 1 going up to but not including 10\n",
    "print(a1)\n",
    "a2 = a1**2\n",
    "print(a2)\n",
    "y2 = a1**3\n",
    "print(y2)"
   ]
  },
  {
   "cell_type": "code",
   "execution_count": null,
   "id": "aa553264-34fd-4386-88e3-cee06b9f6661",
   "metadata": {},
   "outputs": [],
   "source": [
    "t1 = np.arange(0.0, 5.0, 0.1) # a range of numbers starting at 0.0 going up to but not including 5.0 in steps of 0.1\n",
    "print(t1)\n",
    "l1 = np.linspace(0,10, num=100) ## the linspace method defines the actual number points within the range 0,10 including 10\n",
    "print(l1)\n",
    "l2 = l1**2"
   ]
  },
  {
   "cell_type": "code",
   "execution_count": null,
   "id": "63bcca47-56f1-4f28-9d3f-f559cbe6e45b",
   "metadata": {},
   "outputs": [],
   "source": []
  },
  {
   "cell_type": "markdown",
   "id": "77de2f29-2ef2-4481-9e73-bc7bc490f21d",
   "metadata": {},
   "source": [
    "### Learn basic Plotting in Python"
   ]
  },
  {
   "cell_type": "code",
   "execution_count": null,
   "id": "07a5288c-d9c1-4e00-ab7a-d3fe43462415",
   "metadata": {},
   "outputs": [],
   "source": [
    "# let's do some plotting\n",
    "import matplotlib as mpl\n",
    "import matplotlib.pyplot as plt\n",
    "import numpy as np\n",
    "%matplotlib inline"
   ]
  },
  {
   "cell_type": "code",
   "execution_count": null,
   "id": "db645c3f-8238-4507-80ed-003046c618bc",
   "metadata": {},
   "outputs": [],
   "source": [
    "# Simple Plotting\n",
    "print(x)\n",
    "print(y)\n"
   ]
  },
  {
   "cell_type": "code",
   "execution_count": null,
   "id": "6d67dda9-936e-4f26-86c9-c2db40509e02",
   "metadata": {},
   "outputs": [],
   "source": [
    "plt.plot(x,y)"
   ]
  },
  {
   "cell_type": "code",
   "execution_count": null,
   "id": "95e15440-50bf-4839-857f-f1711eccf963",
   "metadata": {},
   "outputs": [],
   "source": [
    "y2 = np.array([16,4,9,1])\n",
    "plt.plot(x,y2)"
   ]
  },
  {
   "cell_type": "code",
   "execution_count": null,
   "id": "64890e8e-7644-467a-9f7b-4c8ccf1ea901",
   "metadata": {},
   "outputs": [],
   "source": [
    "a = np.arange(1,5)\n",
    "b = np.array([1, 4, 9, 16])\n",
    "plt.plot(a, b, 'ro')\n",
    "#plt.axis([-2, 6, -5, 20])\n",
    "plt.show()"
   ]
  },
  {
   "cell_type": "code",
   "execution_count": null,
   "id": "f29c59d2-5e57-4028-a1b7-b2294c9fdc41",
   "metadata": {},
   "outputs": [],
   "source": [
    "# plotting lots of numbers\n",
    "plt.plot(l1,l2)"
   ]
  },
  {
   "cell_type": "code",
   "execution_count": null,
   "id": "f4ff8439-a4f4-4918-9bb1-ef0907bb3704",
   "metadata": {},
   "outputs": [],
   "source": [
    "# let's put these 4 plots above in a 4x4 grid\n",
    "plt.figure()\n",
    "#plt.plot(t, t, 'r--', t, t**2, 'bs', t, t**3, 'g^', t, 100*np.sin(t), 'b+')\n",
    "\n",
    "plt.subplot(221)\n",
    "plt.plot(x, y, 'ro')\n",
    "\n",
    "plt.subplot(222)\n",
    "plt.plot(x, y2)\n",
    "\n",
    "plt.subplot(223)\n",
    "plt.plot(a, b, 'g^')\n",
    "\n",
    "plt.subplot(224)\n",
    "plt.plot(l1, l2, 'k')"
   ]
  },
  {
   "cell_type": "code",
   "execution_count": null,
   "id": "7f398812-020a-4adf-92f1-76d3c6db3ff7",
   "metadata": {},
   "outputs": [],
   "source": [
    "# Put 4 plots in a single figure (1x1 grid)\n",
    "# evenly sampled time at 200ms intervals\n",
    "t = np.arange(0., 5., 0.2)\n",
    "\n",
    "# red dashes, blue squares, green triangles, and blue +\n",
    "plt.plot(t, t, 'r--', t, t**2, 'bs', t, t**3, 'g^', t, 100*np.sin(t), 'b+')\n",
    "plt.show()"
   ]
  },
  {
   "cell_type": "markdown",
   "id": "aec1b42e-3d44-4ef2-a3ff-be8986f956c0",
   "metadata": {},
   "source": [
    "### Can you put 4 graphs above into a single 4x4 figure? Do it in a code cell below\n"
   ]
  },
  {
   "cell_type": "code",
   "execution_count": null,
   "id": "afba31d1-35e8-4d57-8131-7c5ca85d89f0",
   "metadata": {},
   "outputs": [],
   "source": []
  },
  {
   "cell_type": "markdown",
   "id": "eb80a9e1-326c-42bc-9dbc-a96749f5ac79",
   "metadata": {},
   "source": [
    "### See more subplot examples below"
   ]
  },
  {
   "cell_type": "code",
   "execution_count": null,
   "id": "1300c383-d86b-4452-950e-16a8af857242",
   "metadata": {},
   "outputs": [],
   "source": [
    "# More Figures and Sub Plots Examples\n",
    "def f(t):\n",
    "    return np.exp(-t) * np.cos(2*np.pi*t)\n",
    "\n",
    "t1 = np.arange(0.0, 5.0, 0.1)\n",
    "t2 = np.arange(0.0, 5.0, 0.02)\n",
    "\n",
    "plt.figure()\n",
    "\n",
    "plt.subplot(311)\n",
    "plt.plot(t2, np.exp(-t2), 'b--')\n",
    "\n",
    "plt.subplot(312)\n",
    "plt.plot(t2, np.cos(2*np.pi*t2), 'r--')\n",
    "\n",
    "plt.subplot(313)\n",
    "plt.plot(t1, f(t1), 'bo', t2, f(t2), 'k')\n",
    "\n",
    "plt.show()"
   ]
  },
  {
   "cell_type": "code",
   "execution_count": null,
   "id": "378ded8b-609d-4a4f-9d8d-6c7655880aaf",
   "metadata": {},
   "outputs": [],
   "source": []
  }
 ],
 "metadata": {
  "kernelspec": {
   "display_name": "Python 3 (ipykernel)",
   "language": "python",
   "name": "python3"
  },
  "language_info": {
   "codemirror_mode": {
    "name": "ipython",
    "version": 3
   },
   "file_extension": ".py",
   "mimetype": "text/x-python",
   "name": "python",
   "nbconvert_exporter": "python",
   "pygments_lexer": "ipython3",
   "version": "3.9.13"
  },
  "vscode": {
   "interpreter": {
    "hash": "aee8b7b246df8f9039afb4144a1f6fd8d2ca17a180786b69acc140d282b71a49"
   }
  }
 },
 "nbformat": 4,
 "nbformat_minor": 5
}
