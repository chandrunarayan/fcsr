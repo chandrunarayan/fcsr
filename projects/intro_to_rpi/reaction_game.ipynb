{
 "cells": [
  {
   "cell_type": "markdown",
   "id": "bb8b8de9-31b7-42c6-a82d-9898b3234e51",
   "metadata": {},
   "source": [
    "## reaction_game.ipynb\n",
    "### Authors: Double-click to edit and add your name here"
   ]
  },
  {
   "cell_type": "markdown",
   "id": "107dbf65-3899-4045-9ab6-3e7e9ba08d4c",
   "metadata": {},
   "source": [
    "##### WIRING DIAGRAM Markdown Block \n",
    "Double-click to edit\n",
    "\n",
    "***Add markdown statement here to hand-drawn wiring***\n",
    "\n",
    "***Add markdown statement here to add the image of your actual wired breadboard***"
   ]
  },
  {
   "cell_type": "code",
   "execution_count": null,
   "id": "df1d48cd-78b9-40c7-afed-efb742990a9e",
   "metadata": {},
   "outputs": [],
   "source": [
    "#### IMPORT LIBRARIES Code Block\n",
    "import RPi.GPIO as GPIO\n",
    "from gpiozero import LED, Button\n",
    "from time import sleep\n",
    "from datetime import datetime\n",
    "import random"
   ]
  },
  {
   "cell_type": "code",
   "execution_count": null,
   "id": "c935c706-f496-40f9-98e6-633d0e192f23",
   "metadata": {
    "tags": []
   },
   "outputs": [],
   "source": [
    "#### USER INPUT BLOCK FOR PLAYER NAMES & SETUP PLAYER SCORES & GAME ROUNDS\n",
    "\n",
    "# get names\n",
    "#player_1_name = input(\"Enter name of player 1: \") # Get name of Player 1\n",
    "#player_2_name = input(\"Enter name of player 2: \") # Get name of Player 2\n",
    "\n",
    "# set player names\n",
    "player_1_name = 'Player 1'\n",
    "player_2_name = 'Player 2'\n",
    "\n",
    "# set initial scores\n",
    "player_1_score = 0\n",
    "player_2_score = 0\n",
    "\n",
    "# set game rounds\n",
    "rounds = 5\n"
   ]
  },
  {
   "cell_type": "code",
   "execution_count": null,
   "id": "8eb08e68-3e4c-46d6-bcd8-57dfeb8181a5",
   "metadata": {
    "tags": []
   },
   "outputs": [],
   "source": [
    "#### LED SETUP Code Block\n",
    "\n",
    "# LED setup\n",
    "gpio_ledpin = ???  # Connect LED long lead to GPIO4 other to GND\n",
    "led = ???  # Tell the led object that the pin is GPIO4"
   ]
  },
  {
   "cell_type": "code",
   "execution_count": null,
   "id": "db914303-034a-438a-b71a-7ba063bc939a",
   "metadata": {},
   "outputs": [],
   "source": [
    "#### BUTTON SETUP Code Block\n",
    "\n",
    "# BUTTON setup\n",
    "\n",
    "# No custom call back needed for Buttons\n",
    "# We are using the button.is_pressed ever directly\n",
    "\n",
    "# setup Button 1\n",
    "gpio_btn1pin = ???  # Connect one Button lead to GPIO21 other to GND\n",
    "player_1 = Button(gpio_btn1pin) # Tell the button object that the pin is GPIO21\n",
    "\n",
    "# setup Button 2\n",
    "gpio_btn2pin = ???  # Connect one Button lead to GPIO14 other to GND\n",
    "player_2 = ??? # Tell the button object that the pin is GPI14"
   ]
  },
  {
   "cell_type": "code",
   "execution_count": null,
   "id": "587e6562-c1bd-4397-8d34-0542affab234",
   "metadata": {
    "tags": []
   },
   "outputs": [],
   "source": [
    "#### MAIN LOOP Code Block\n",
    "\n",
    "# MAIN loop\n",
    "for i in range(rounds):  #  Loop for no. of rounds\n",
    "    time = random.uniform(5, 10)\n",
    "    sleep(time)\n",
    "    led.on()    \n",
    "    while True:\n",
    "        if player_1.is_pressed:\n",
    "            print(f'{player_1_name} wins round {i+1}')\n",
    "            player_1_score += 1\n",
    "            break\n",
    "        if player_2.is_pressed:\n",
    "            print(f'{player_2_name} wins round {i+1}')\n",
    "            player_2_score += 1\n",
    "            break\n",
    "    led.off()\n",
    "\n",
    "if player_1_score > player_2_score:\n",
    "    winner = player_1_name\n",
    "else:\n",
    "    winner = player_2_name\n",
    "    \n",
    "maxvalue = max(player_1_score, player_2_score)\n",
    "minvalue = min(player_1_score, player_2_score)\n",
    "\n",
    "print(f'{winner} wins the game {maxvalue} to {minvalue}!')\n",
    "print('game ended')"
   ]
  },
  {
   "cell_type": "code",
   "execution_count": null,
   "id": "2e6a41c1-e093-4c9a-9495-7ef4d1b0a8ee",
   "metadata": {},
   "outputs": [],
   "source": []
  }
 ],
 "metadata": {
  "kernelspec": {
   "display_name": "Python 3 (ipykernel)",
   "language": "python",
   "name": "python3"
  },
  "language_info": {
   "codemirror_mode": {
    "name": "ipython",
    "version": 3
   },
   "file_extension": ".py",
   "mimetype": "text/x-python",
   "name": "python",
   "nbconvert_exporter": "python",
   "pygments_lexer": "ipython3",
   "version": "3.11.2"
  }
 },
 "nbformat": 4,
 "nbformat_minor": 5
}
