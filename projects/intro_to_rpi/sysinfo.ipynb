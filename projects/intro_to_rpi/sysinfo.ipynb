{
 "cells": [
  {
   "cell_type": "code",
   "execution_count": null,
   "id": "4301f173-fae4-48c1-908b-4b8554433cbd",
   "metadata": {},
   "outputs": [],
   "source": [
    "import psutil\n",
    "\n",
    "# Get cpu statistics\n",
    "cpu = str(psutil.cpu_percent()) + '%'\n",
    "\n",
    "# Calculate memory information\n",
    "memory = psutil.virtual_memory()\n",
    "# Convert Bytes to MB (Bytes -> KB -> MB)\n",
    "available = round(memory.available/1024.0/1024.0,1)\n",
    "total = round(memory.total/1024.0/1024.0,1)\n",
    "mem_info = str(available) + 'MB free / ' + str(total) + 'MB total ( ' + str(memory.percent) + '% )'\n",
    "\n",
    "# Calculate disk information\n",
    "disk = psutil.disk_usage('/')\n",
    "# Convert Bytes to GB (Bytes -> KB -> MB -> GB)\n",
    "free = round(disk.free/1024.0/1024.0/1024.0,1)\n",
    "total = round(disk.total/1024.0/1024.0/1024.0,1)\n",
    "disk_info = str(free) + 'GB free / ' + str(total) + 'GB total ( ' + str(disk.percent) + '% )'\n",
    "\n",
    "print(\"CPU Info–> \", cpu)\n",
    "print(\"Memory Info–>\", mem_info)\n",
    "print(\"Disk Info–>\", disk_info)\n",
    "  \n",
    "# Calling psutil.cpu_precent() for 4 seconds \n",
    "print('The CPU usage is: ', psutil.cpu_percent(4)) \n"
   ]
  },
  {
   "cell_type": "code",
   "execution_count": null,
   "id": "98d6d9de-5b0f-4f40-9d8c-39f3e0ab979c",
   "metadata": {},
   "outputs": [],
   "source": [
    "import gpiozero as gpz\n",
    "\n",
    "cpu = gpz.CPUTemperature()\n",
    "cpu_temp = cpu.temperature\n",
    "print(cpu_temp)"
   ]
  },
  {
   "cell_type": "code",
   "execution_count": null,
   "id": "54fe4842-001b-4438-b794-8fc89fb77269",
   "metadata": {},
   "outputs": [],
   "source": [
    "import os\n",
    "import time\n",
    " \n",
    "def temperature_of_raspberry_pi():\n",
    "    cpu_temp = os.popen(\"vcgencmd measure_temp\").readline()\n",
    "    return cpu_temp.replace(\"temp=\", \"\")\n",
    "\n",
    "print(temperature_of_raspberry_pi())\n",
    "\n",
    "#while True:\n",
    "#    print(temperature_of_raspberry_pi())\n",
    "#    time.sleep(1)"
   ]
  },
  {
   "cell_type": "code",
   "execution_count": null,
   "id": "46f19e7a-114d-4c14-aae5-1a5436659290",
   "metadata": {},
   "outputs": [],
   "source": []
  }
 ],
 "metadata": {
  "kernelspec": {
   "display_name": "Python 3",
   "language": "python",
   "name": "python3"
  },
  "language_info": {
   "codemirror_mode": {
    "name": "ipython",
    "version": 3
   },
   "file_extension": ".py",
   "mimetype": "text/x-python",
   "name": "python",
   "nbconvert_exporter": "python",
   "pygments_lexer": "ipython3",
   "version": "3.10.7"
  },
  "vscode": {
   "interpreter": {
    "hash": "aee8b7b246df8f9039afb4144a1f6fd8d2ca17a180786b69acc140d282b71a49"
   }
  }
 },
 "nbformat": 4,
 "nbformat_minor": 5
}
