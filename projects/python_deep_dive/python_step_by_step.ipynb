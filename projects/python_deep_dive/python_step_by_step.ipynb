{
 "cells": [
  {
   "cell_type": "markdown",
   "id": "08b3656b-da51-462f-a63f-6810c27d5509",
   "metadata": {},
   "source": [
    "## Notebook: python_markdown_step_by_step.ipynb\n",
    "### A. Let's write some Markdown code\n",
    "1. You can write Markdown Syntax here\n",
    "    1. Th is just a sub bullet\n",
    "    1. *This is in italics*\n",
    "    1. **This is in bold**\n",
    "    1. ***This in bold  italics***\n",
    "    1. This is in <span style=\"color:blue\"> Blue Color </span> and now in <span style=\"color:red\"> Red Color </span>\n",
    "1. You can write LaTeX Syntax here $$a^2 + b^2 = c^2$$\n",
    "1. You can embed images here\n",
    "![first](ringnebula.jpg)\n",
    "1. You can embed links here\n",
    "    #### [Get a Markdown Syntax Cheatsheet Here](https://www.markdownguide.org/cheat-sheet/)"
   ]
  },
  {
   "cell_type": "markdown",
   "id": "f15e8a36-f566-4c49-8bfe-adfd6ccc0fae",
   "metadata": {},
   "source": [
    "### B. Let's write some Python loops\n",
    "### Write a Python loop as specified here\n",
    "1. Create a variable loopSize - Set it to 5\n",
    "1. Write a loop that runs loopSize times\n",
    "1. Print \"Loop begins\" at start of loop\n",
    "1. Print 1000*count and 55+count each time through the loop\n",
    "1. Print \"Loop ends after 5 iterations\" at end of loop, It should look like this: \n",
    "    * Loop begins\n",
    "        * loop 1 values are 1000 and 56\n",
    "        * loop 2 values are 1000 and 57\n",
    "        * ....\n",
    "    * Loop ends after 5 iterations"
   ]
  },
  {
   "cell_type": "code",
   "execution_count": null,
   "id": "1ec2d467-300a-4c91-b63c-c8e7d83c328c",
   "metadata": {
    "tags": []
   },
   "outputs": [],
   "source": [
    "### This is a Python Cell\n",
    "### Write your code here\n",
    "### I have started it for you - but it is NOT QUITE CORRECT\n",
    "### YOU NEED TO FIX THIS !!\n",
    "loopSize = 5\n",
    "print(\"Loop begins\")\n",
    "for idx in range(loopSize):\n",
    "    print(f'\\tloop {idx} values are {1000*idx} and {55+idx}')\n",
    "    print(f'\\tLoop ends after {loopSize} iterations')\n"
   ]
  },
  {
   "cell_type": "markdown",
   "id": "f541ad1d-ea2e-48ad-9e49-1e651e7ea639",
   "metadata": {},
   "source": [
    "### C. Create a function and put the loop we created inside it\n",
    "#### Let's call the function myFunc()\n",
    "1. Copy all of the corrected loop code into this function\n",
    "1. Then call the function myFunc()\n",
    "* I have started it for you"
   ]
  },
  {
   "cell_type": "code",
   "execution_count": null,
   "id": "5feac784-7d04-4e41-a179-17c8440ac883",
   "metadata": {
    "tags": []
   },
   "outputs": [],
   "source": [
    "def myFunc():\n",
    "    print('replace this line with code from loop above. does it work?')"
   ]
  },
  {
   "cell_type": "code",
   "execution_count": null,
   "id": "f22ca918-3f39-47ea-8273-6b90a6858ca4",
   "metadata": {
    "tags": []
   },
   "outputs": [],
   "source": [
    "## Call the function\n",
    "myFunc()"
   ]
  },
  {
   "cell_type": "markdown",
   "id": "eb0349f0-9fba-402c-a8d3-57e1e48cfb58",
   "metadata": {},
   "source": [
    "### D. Create a new function and make it receive the loopSize parameter\n",
    "#### Let's call the function myFunc2()\n",
    "1. copy all of the myFunc code into this function\n",
    "1. modify the code to use size instead of loopSize\n",
    "1. then call your function passing a number for size\n",
    "1. change the size and call it again\n",
    "* I have started it for you"
   ]
  },
  {
   "cell_type": "code",
   "execution_count": null,
   "id": "2bc562ed-f503-4bc2-a9ca-58bd1113a6d9",
   "metadata": {
    "tags": []
   },
   "outputs": [],
   "source": [
    "def myFunc2(size):\n",
    "    print('follow instructions above. does it work?')"
   ]
  },
  {
   "cell_type": "code",
   "execution_count": null,
   "id": "b16ba876-4038-4a78-8a6b-f3c766a87ea3",
   "metadata": {
    "tags": []
   },
   "outputs": [],
   "source": [
    "myFunc2(2)"
   ]
  },
  {
   "cell_type": "markdown",
   "id": "94222e5f-df53-414e-b5ac-0594b4b6ed3c",
   "metadata": {},
   "source": []
  },
  {
   "cell_type": "markdown",
   "id": "c349b365-55a0-4065-8f99-7d38782b7b52",
   "metadata": {},
   "source": [
    "### E. Import Libraries Needed for Board & Button"
   ]
  },
  {
   "cell_type": "code",
   "execution_count": null,
   "id": "82c95d14-a61e-40d1-89df-702ab3096298",
   "metadata": {
    "tags": []
   },
   "outputs": [],
   "source": [
    "#### IMPORT LIBRARIES Code Block\n",
    "import board\n",
    "import neopixel\n",
    "from time import sleep\n",
    "from datetime import datetime\n",
    "from sys import exit\n",
    "from gpiozero import LED, Button"
   ]
  },
  {
   "cell_type": "markdown",
   "id": "528dc401-00b0-4de0-aecf-6f5d8039bbeb",
   "metadata": {},
   "source": [
    "### F. Write a Button Action Function\n",
    "I have written it for you. Let's walkthrough it\n",
    "#### [Get Button Function Library Documentation Here](https://gpiozero.readthedocs.io/en/stable/recipes.html#button)"
   ]
  },
  {
   "cell_type": "code",
   "execution_count": null,
   "id": "07a516b1-be68-4f64-b69a-30a3e7cd4fb6",
   "metadata": {
    "tags": []
   },
   "outputs": [],
   "source": [
    "def clicked():\n",
    "    now = datetime.now()\n",
    "    tstamp = now.strftime(\"%m%d%H%M%S\")    # prints month-day-hr-min-sec \n",
    "                                           # example: 0403195324 used for file naming\n",
    "    time = now.strftime(\"%b %d %H:%M:%S\")  # prints month-day-hr-min-sec 0403194304\n",
    "                                           # example: Apr 03 19:53:24 used for info\n",
    "    \n",
    "    print(f'button clicked @ {time}')\n",
    "    print(f'time stamp is: {tstamp}')"
   ]
  },
  {
   "cell_type": "markdown",
   "id": "44e879fb-90eb-4cea-a1b8-4a0f078cd041",
   "metadata": {},
   "source": [
    "### G. Setup the Button to a GPIO output in rPI and Breadboard\n",
    "### Add breadboard picture below\n",
    "![breadBoard](breadBoard.jpg)\n",
    "1. Add python code below to setup button\n",
    "2.  Add python code to reference Button Action Function"
   ]
  },
  {
   "cell_type": "code",
   "execution_count": null,
   "id": "0598f6fc-a5ff-4cb4-a62d-9b40ddbf5377",
   "metadata": {
    "tags": []
   },
   "outputs": [],
   "source": [
    "### setup button below\n",
    "###\n",
    "buttonpin = 4\n",
    "button = Button(buttonpin)\n",
    "\n",
    "### setup reference to Button\n",
    "button.when_pressed=clicked  #note name of function only without parenthesis!"
   ]
  },
  {
   "cell_type": "markdown",
   "id": "93c5b163-5713-40c3-bd5f-00d2453fa575",
   "metadata": {},
   "source": [
    "### H. Let's wire up the Neopixel board matrix to another GPIO output pin\n",
    "1. This may already be done, just verify the gpio port#!!\n",
    "1. Add a picture of the pixel board below!!\n",
    "1. Setup 'pixels' array using the neopixel function call\n",
    "1. Use pixels array to light up pixels to a certain color\n",
    "1. Make a magenta snake pattern\n",
    "\n",
    "![pixelboard](pixelBoard.jpg)"
   ]
  },
  {
   "cell_type": "code",
   "execution_count": null,
   "id": "ef37f590-d27f-4955-a23d-834298b8eb30",
   "metadata": {},
   "outputs": [],
   "source": [
    "### setup neopixel board below\n",
    "###\n",
    "pixel_pin = board.D18  # GPIO 18\n",
    "\n",
    "num_pixels = 100   # 100 neopixels in string\n",
    "\n",
    "ORDER = neopixel.RGB  # Order of neopixel color Red-Green-Blue\n",
    "\n",
    "pixels = neopixel.NeoPixel(pixel_pin, num_pixels, \n",
    "                           brightness=0.1, auto_write=False,\n",
    "                           pixel_order=ORDER)"
   ]
  },
  {
   "cell_type": "code",
   "execution_count": null,
   "id": "25bab27e-1ab1-40ca-bfa2-2d256f905c51",
   "metadata": {
    "tags": []
   },
   "outputs": [],
   "source": [
    "### setup a color array of RGB to say rd, gr, bl, cy, mg, ye, wh, of\n",
    "rd = [255,0,0]\n",
    "gr = [0,255,0]\n",
    "#. setup all the other colors below\n",
    "#gr =\n",
    "#bl =\n",
    "mg = [255,0,255]\n",
    "### fill all neopixels to the color\n",
    "pixels.fill(rd)\n",
    "\n",
    "### show all the neoplxels followed by a sleepof 0.2 seconds\n",
    "pixels.show()\n",
    "sleep(0.2)\n",
    "\n",
    "### Assign a specific neoplxel to gr followed by a show & sleep of 0.2 seconds\n",
    "pixels[5] = gr\n",
    "pixels.show()\n",
    "sleep(0.2)"
   ]
  },
  {
   "cell_type": "code",
   "execution_count": null,
   "id": "a0594dd4-8513-45f3-bedc-2103a247747e",
   "metadata": {
    "tags": []
   },
   "outputs": [],
   "source": [
    "### Can you now make a magenta snake of length 5 climbing up the board?\n",
    "### You will need a for loop to do this\n",
    "### I have started this for you!\n",
    "snake_len = 7\n",
    "pixels.fill(of)\n",
    "pixels.show()\n",
    "sleep(0.2)\n",
    "# for i in range( .....\n"
   ]
  },
  {
   "cell_type": "code",
   "execution_count": null,
   "id": "279fc582-6663-41cc-ac46-57fa91200bf9",
   "metadata": {},
   "outputs": [],
   "source": []
  }
 ],
 "metadata": {
  "kernelspec": {
   "display_name": "Python 3 (ipykernel)",
   "language": "python",
   "name": "python3"
  },
  "language_info": {
   "codemirror_mode": {
    "name": "ipython",
    "version": 3
   },
   "file_extension": ".py",
   "mimetype": "text/x-python",
   "name": "python",
   "nbconvert_exporter": "python",
   "pygments_lexer": "ipython3",
   "version": "3.11.2"
  }
 },
 "nbformat": 4,
 "nbformat_minor": 5
}
