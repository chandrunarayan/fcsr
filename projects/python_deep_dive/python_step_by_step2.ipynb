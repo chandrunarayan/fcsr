{
 "cells": [
  {
   "cell_type": "markdown",
   "id": "08b3656b-da51-462f-a63f-6810c27d5509",
   "metadata": {},
   "source": [
    "## Notebook: python_markdown_step_by_step2.ipynb\n",
    "### Camera & Motion Sening"
   ]
  },
  {
   "cell_type": "markdown",
   "id": "c349b365-55a0-4065-8f99-7d38782b7b52",
   "metadata": {},
   "source": [
    "### A. Import Libraries Needed for Board & Camera & Motion Sensing"
   ]
  },
  {
   "cell_type": "code",
   "execution_count": null,
   "id": "82c95d14-a61e-40d1-89df-702ab3096298",
   "metadata": {
    "tags": []
   },
   "outputs": [],
   "source": [
    "#### IMPORT LIBRARIES Code Block\n",
    "import board\n",
    "import neopixel\n",
    "import matplotlib.pyplot as plt\n",
    "import cv2\n",
    "import random,math,time\n",
    "from time import sleep\n",
    "from datetime import datetime\n",
    "from sys import exit\n",
    "import subprocess\n",
    "from gpiozero import LED, Button, MotionSensor\n",
    "import signal\n",
    "from signal import pause"
   ]
  },
  {
   "cell_type": "markdown",
   "id": "675ad059-7418-4968-8925-e5d9d8574741",
   "metadata": {},
   "source": [
    "### B. Add the Python Functions Block for Pixels and Images"
   ]
  },
  {
   "cell_type": "markdown",
   "id": "4826697e-6a8f-4c16-ae1b-b3b2cab6fcbf",
   "metadata": {},
   "source": [
    "### Python Functions Block "
   ]
  },
  {
   "cell_type": "code",
   "execution_count": null,
   "id": "b4c29250-f989-4d03-841e-3ffb3fd053e1",
   "metadata": {
    "tags": []
   },
   "outputs": [],
   "source": [
    "def reset():       # simply set leds off\n",
    "    for ii in range(num_pixels):\n",
    "        #pixels.fill((0,0,0))\n",
    "        pixels[ii]=((0,0,0))\n",
    "    pixels.show()\n",
    "    sleep(0.1)"
   ]
  },
  {
   "cell_type": "code",
   "execution_count": null,
   "id": "f862fb35-3cb5-42de-b813-9e94da211d68",
   "metadata": {
    "tags": []
   },
   "outputs": [],
   "source": [
    "def initialize():   # set leds white-off\n",
    "    for ii in range(3):         # flash white 3-times\n",
    "        pixels.fill((0,0,0))\n",
    "        #print(pixels)\n",
    "        pixels.show()\n",
    "        sleep(0.1)\n",
    "        pixels.fill((255,255,255))\n",
    "        #print(pixels)\n",
    "        pixels.show()\n",
    "        sleep(0.1)\n",
    "    pixels.fill((0,0,0))\n",
    "    #print(pixels)\n",
    "    pixels.show()    "
   ]
  },
  {
   "cell_type": "code",
   "execution_count": null,
   "id": "63d49152-8547-4b29-bc94-452aaae95128",
   "metadata": {
    "tags": []
   },
   "outputs": [],
   "source": [
    "def allcolors():    # set leds red-green-blue-yellow-magenta-cyan\n",
    "    pixels.fill((0,0,0))\n",
    "    #print(pixels)\n",
    "    pixels.show()\n",
    "    sleep(1)\n",
    "    pixels.fill((255,0,0))\n",
    "    #print(pixels)\n",
    "    pixels.show()\n",
    "    sleep(1)\n",
    "    pixels.fill((0,255,0))\n",
    "    #print(pixels)\n",
    "    pixels.show()\n",
    "    sleep(1)\n",
    "    pixels.fill((0,0,255))\n",
    "    #print(pixels)\n",
    "    pixels.show()\n",
    "    sleep(1)\n",
    "    pixels.fill((255,255,0))\n",
    "    #print(pixels)\n",
    "    pixels.show()\n",
    "    sleep(1)\n",
    "    pixels.fill((255,0,255))\n",
    "    #print(pixels)\n",
    "    pixels.show()\n",
    "    sleep(1)\n",
    "    pixels.fill((0,255,255))\n",
    "    #print(pixels)\n",
    "    pixels.show()\n",
    "    sleep(1)\n",
    "    pixels.fill((0,0,0))\n",
    "    #print(pixels)\n",
    "    pixels.show()\n",
    "    sleep(1)"
   ]
  },
  {
   "cell_type": "code",
   "execution_count": null,
   "id": "994a0c47-0e36-4bf3-b78e-a59b841042d7",
   "metadata": {
    "tags": []
   },
   "outputs": [],
   "source": [
    "def finish():\n",
    "    for ii in range(3):         # flash cyan 3-times\n",
    "        pixels.fill((0,0,0))\n",
    "        #print(pixels)\n",
    "        pixels.show()\n",
    "        sleep(0.1)\n",
    "        pixels.fill((0,255,255))\n",
    "        #print(pixels)\n",
    "        pixels.show()\n",
    "        sleep(0.1)    \n",
    "    pixels.fill((0,0,0))\n",
    "    #print(pixels)\n",
    "    pixels.show()        "
   ]
  },
  {
   "cell_type": "code",
   "execution_count": null,
   "id": "ac184d35-ab98-4587-9979-93d8154d9693",
   "metadata": {
    "tags": []
   },
   "outputs": [],
   "source": [
    "def travel():\n",
    "    for ii in range(3):             # start 3-white flashes in first pixel then turn it green\n",
    "        pixels[0]=((0,0,0))\n",
    "        pixels.show()\n",
    "        sleep(0.1)\n",
    "        pixels[0]=((255,255,255))\n",
    "        pixels.show()\n",
    "        sleep(0.1)\n",
    "    pixels[0]=((0,255,0))\n",
    "    pixels.show()\n",
    "    sleep(0.1)\n",
    "\n",
    "    for ii in range(num_pixels):    # running cyan through entire strip\n",
    "        if ii > 1:                  # turn off previous - turn on current to red\n",
    "            pixels[ii-1]=((0,0,0))\n",
    "            pixels[ii]=((255,0,0))\n",
    "        if ii > int(num_pixels/2):  # Turn middle pixel only green \n",
    "            pixels[int(num_pixels/2)]=((0,255,0)) \n",
    "        pixels.show()\n",
    "        sleep(0.1)    \n",
    "\n",
    "    for ii in range(3):             # end 3-magenta flashes in last pixel then green\n",
    "        pixels[num_pixels-1]=((0,0,0))\n",
    "        pixels.show()\n",
    "        sleep(0.1)        \n",
    "        pixels[num_pixels-1]=((255,0,255))\n",
    "        pixels.show()\n",
    "        sleep(0.1)\n",
    "        \n",
    "    pixels[num_pixels-1]=((0,255,0))\n",
    "    pixels.show()\n",
    "    sleep(1)    \n",
    "    pixels.fill((0,0,0))\n",
    "    pixels.show()\n",
    "    sleep(0.1)     "
   ]
  },
  {
   "cell_type": "code",
   "execution_count": null,
   "id": "ae559293-3aba-4aea-9faa-e28b80ff8422",
   "metadata": {},
   "outputs": [],
   "source": [
    "def take_image():\n",
    "    # datetime object containing current date and time\n",
    "    !mkdir -p images\n",
    "    now = datetime.now()\n",
    "    #thisdate = today.strftime(\"%b-%d-%Y-%hr-%M\")\n",
    "    thisdate = now.strftime(\"%d%m%Y%H%M%S\")\n",
    "    thisimg = f'testimg_{thisdate}.jpg'\n",
    "    !libcamera-still -n -o images/$thisimg\n",
    "    return f'images/{thisimg}'"
   ]
  },
  {
   "cell_type": "code",
   "execution_count": null,
   "id": "e33ade14-3bc0-46b1-a392-8e48a4f5a76d",
   "metadata": {},
   "outputs": [],
   "source": [
    "def show_image(thisimg):\n",
    "    %matplotlib inline\n",
    "    rimg = cv2.imread(thisimg) \n",
    "    img = cv2.flip(rimg,0)\n",
    "    #plt.title(\"Selfie Booth - original color image\")\n",
    "    #plt.imshow(cv2.cvtColor(img, cv2.COLOR_BGR2RGB))\n",
    "  \n",
    "    \n",
    "    f = plt.figure(figsize=(15, 15)) \n",
    "    \n",
    "    f.add_subplot(1, 2, 1) \n",
    "    grayImg = cv2.cvtColor(img, cv2.COLOR_BGR2GRAY)\n",
    "    plt.imshow(grayImg, cmap = 'gray') \n",
    "    plt.title(\"Selfie Booth - gray\")\n",
    "    plt.show()\n",
    "\n",
    "    \n",
    "    f.add_subplot(1, 2, 2) \n",
    "    plt.imshow(cv2.cvtColor(img, cv2.COLOR_BGR2RGB)) \n",
    "    plt.title(\"Selfie Booth - original color image\")\n",
    "    plt.show()\n",
    "    "
   ]
  },
  {
   "cell_type": "markdown",
   "id": "528dc401-00b0-4de0-aecf-6f5d8039bbeb",
   "metadata": {},
   "source": [
    "### C. Write a Button Action Function\n",
    "I have written it for you. Let's walkthrough it\n",
    "#### [Get Button Function Library Documentation Here](https://gpiozero.readthedocs.io/en/stable/recipes.html#button)\n",
    "#### You need to MODIFY tghis to add the take_image() and show_image() functions"
   ]
  },
  {
   "cell_type": "code",
   "execution_count": null,
   "id": "07a516b1-be68-4f64-b69a-30a3e7cd4fb6",
   "metadata": {
    "tags": []
   },
   "outputs": [],
   "source": [
    "def clicked():\n",
    "    now = datetime.now()\n",
    "    tstamp = now.strftime(\"%m%d%H%M%S\")    # prints month-day-hr-min-sec \n",
    "                                           # example: 0403195324 used for file naming\n",
    "    time = now.strftime(\"%b %d %H:%M:%S\")  # prints month-day-hr-min-sec 0403194304\n",
    "                                           # example: Apr 03 19:53:24 used for info\n",
    "    \n",
    "    print(f'button clicked @ {time}')\n",
    "    print(f'time stamp is: {tstamp}')\n",
    "    initialize()\n",
    "    img = take_image()\n",
    "    show_image(img)"
   ]
  },
  {
   "cell_type": "code",
   "execution_count": null,
   "id": "ca182d9c-21f4-48d8-925b-ecb6dd4a0679",
   "metadata": {},
   "outputs": [],
   "source": [
    "def moved():\n",
    "    now = datetime.now()\n",
    "    tstamp = now.strftime(\"%m%d%H%M%S\")    # prints month-day-hr-min-sec \n",
    "                                           # example: 0403195324 used for file naming\n",
    "    time = now.strftime(\"%b %d %H:%M:%S\")  # prints month-day-hr-min-sec 0403194304\n",
    "                                           # example: Apr 03 19:53:24 used for info\n",
    "    \n",
    "    print(f'movement detected  @ {time}')\n",
    "    print(f'time stamp is: {tstamp}')\n",
    "    initialize()"
   ]
  },
  {
   "cell_type": "markdown",
   "id": "44e879fb-90eb-4cea-a1b8-4a0f078cd041",
   "metadata": {},
   "source": [
    "### C. Setup the Button to a GPIO output in rPI and Breadboard\n",
    "### Add breadboard picture below\n",
    "![breadBoard](breadBoard.jpg)\n",
    "1. Add python code below to setup Button and Motion Sensor\n",
    "2.  Add python code to reference Button Action Function"
   ]
  },
  {
   "cell_type": "code",
   "execution_count": null,
   "id": "0598f6fc-a5ff-4cb4-a62d-9b40ddbf5377",
   "metadata": {
    "tags": []
   },
   "outputs": [],
   "source": [
    "### setup button below\n",
    "###\n",
    "buttonpin = 4\n",
    "button = Button(buttonpin)\n",
    "\n",
    "### setup reference to Button\n",
    "button.when_pressed=clicked  #note name of function only without parenthesis!\n",
    "\n",
    "### setup Motion Sensor below\n",
    "###\n",
    "pirpin = 14\n",
    "pir = MotionSensor(pirpin)\n",
    "\n",
    "### setup reference to Motion Sensor\n",
    "pir.when_motion=moved  #note name of function only without parenthesis!"
   ]
  },
  {
   "cell_type": "code",
   "execution_count": null,
   "id": "08fd756a-8d9c-4b3f-b142-3a3153d812ce",
   "metadata": {},
   "outputs": [],
   "source": [
    "#pause()"
   ]
  },
  {
   "cell_type": "markdown",
   "id": "93c5b163-5713-40c3-bd5f-00d2453fa575",
   "metadata": {},
   "source": [
    "### D. Let's wire up the Neopixel board matrix to another GPIO output pin\n",
    "1. Before commencing this step comment out the pause() in the previous cell!\n",
    "1. This may already be done, just verify the gpio port#\n",
    "1. Add a picture of the pixel board below!!\n",
    "1. Setup 'pixels' array using the neopixel function call\n",
    "1. Use pixels array to light up pixels to a certain color\n",
    "1. **OPTIONAL**: Make a magenta snake pattern and Test it\n",
    "1. Make a function out of the pattern and test the function\n",
    "1. Add this function call inside the 'clicked' function you defined earlier\n",
    "1. Finally add a new Python cell to re-add the pause() stmt to test yor button agaon!\n",
    "1. Does it work?\n",
    "\n",
    "![pixelboard](pixelBoard.jpg)"
   ]
  },
  {
   "cell_type": "code",
   "execution_count": null,
   "id": "ef37f590-d27f-4955-a23d-834298b8eb30",
   "metadata": {},
   "outputs": [],
   "source": [
    "### setup neopixel board below\n",
    "###\n",
    "pixel_pin = board.D18  # GPIO 18\n",
    "\n",
    "num_pixels = 100   # 100 neopixels in string\n",
    "\n",
    "ORDER = neopixel.RGB  # Order of neopixel color Red-Green-Blue\n",
    "\n",
    "pixels = neopixel.NeoPixel(pixel_pin, num_pixels, \n",
    "                           brightness=0.1, auto_write=False,\n",
    "                           pixel_order=ORDER)"
   ]
  },
  {
   "cell_type": "code",
   "execution_count": null,
   "id": "25bab27e-1ab1-40ca-bfa2-2d256f905c51",
   "metadata": {
    "tags": []
   },
   "outputs": [],
   "source": [
    "### setup a color array of RGB to say rd, gr, bl, cy, mg, ye, wh, of\n",
    "rd = [255,0,0]\n",
    "\n",
    "#. setup all the other colors below\n",
    "gr = [0,255,0]\n",
    "bl = [0,0,255]\n",
    "cy = [0,255,255]\n",
    "mg = [255,0,255]\n",
    "ye = [255,255,0]\n",
    "wh = [255,255,255]\n",
    "of = [0,0,0]\n",
    "\n",
    "### fill all neopixels to a color\n",
    "pixels.fill(cy)\n",
    "\n",
    "### show all the neoplxels followed by a sleep of 2 seconds\n",
    "pixels.show()\n",
    "sleep(2)\n",
    "\n",
    "### fill all neopixels to a off\n",
    "pixels.fill(mg)\n",
    "\n",
    "### show all the neoplxels followed by a sleep of 2 seconds\n",
    "pixels.show()\n",
    "sleep(2)"
   ]
  },
  {
   "cell_type": "code",
   "execution_count": null,
   "id": "543dbe82-1a7b-496a-b9de-1eeaf84d14fc",
   "metadata": {
    "tags": []
   },
   "outputs": [],
   "source": [
    "pause()"
   ]
  },
  {
   "cell_type": "code",
   "execution_count": null,
   "id": "f7e0b999-4c61-46ab-b47e-d36d02599287",
   "metadata": {},
   "outputs": [],
   "source": []
  }
 ],
 "metadata": {
  "kernelspec": {
   "display_name": "Python 3 (ipykernel)",
   "language": "python",
   "name": "python3"
  },
  "language_info": {
   "codemirror_mode": {
    "name": "ipython",
    "version": 3
   },
   "file_extension": ".py",
   "mimetype": "text/x-python",
   "name": "python",
   "nbconvert_exporter": "python",
   "pygments_lexer": "ipython3",
   "version": "3.11.2"
  }
 },
 "nbformat": 4,
 "nbformat_minor": 5
}
