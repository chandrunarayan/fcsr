{
 "cells": [
  {
   "cell_type": "markdown",
   "id": "eba21a18-d8c5-4338-bc60-96bca6979d26",
   "metadata": {},
   "source": [
    "## Activate Robot Car Camera"
   ]
  },
  {
   "cell_type": "markdown",
   "id": "6b3e16c0-2491-40ce-aef9-3a2ff0cb1750",
   "metadata": {},
   "source": [
    "#### Import Libraries and log info"
   ]
  },
  {
   "cell_type": "code",
   "execution_count": null,
   "id": "0432ea5d-2bfd-4e1a-a76a-66446bde80cd",
   "metadata": {
    "tags": []
   },
   "outputs": [],
   "source": [
    "#!/usr/bin/env python3\n",
    "# encoding:utf-8\n",
    "import sys\n",
    "import cv2\n",
    "import time\n",
    "import threading\n",
    "import numpy as np\n",
    "import HiwonderSDK.Camera\n",
    "from datetime import datetime\n",
    "import matplotlib.pyplot as plt\n",
    "\n",
    "if sys.version_info.major == 2:\n",
    "    print('Please run this program with python3!')\n",
    "    sys.exit(0)\n",
    "    \n",
    "print('''\n",
    "**********************************************************\n",
    "******** BUSH FCSR Robot Car Camera Test **********\n",
    "**********************************************************\n",
    "----------------------------------------------------------\n",
    "FCSR website:https://chandrunarayan.github.io/fcsr\n",
    "----------------------------------------------------------\n",
    "Tips:\n",
    " * Press ctrl-c or stop button to exit\n",
    "----------------------------------------------------------\n",
    "''')\n"
   ]
  },
  {
   "cell_type": "markdown",
   "id": "2d008411-43ee-471a-bb55-8cb190ef836e",
   "metadata": {},
   "source": [
    "#### Functions Block"
   ]
  },
  {
   "cell_type": "code",
   "execution_count": null,
   "id": "74e1a71a-c35e-49ad-8a45-2fed6c2daa9c",
   "metadata": {
    "tags": []
   },
   "outputs": [],
   "source": [
    "def take_image(imgdir):\n",
    "    global camera\n",
    "    # datetime object containing current date and time\n",
    "    \n",
    "    now = datetime.now()\n",
    "    #thisdate = today.strftime(\"%b-%d-%Y-%hr-%M\")\n",
    "    thisdate = now.strftime(\"%d%m%Y%H%M%S\")\n",
    "    thisimg = f'testimg_{thisdate}.jpg'\n",
    "    imgpath = f'{imgdir}/{thisimg}'\n",
    "    cap = cv2.VideoCapture(0)\n",
    "    #cap.set(3,1280) #width=1280\n",
    "    #cap.set(4,960) #height=960\n",
    "    if cap.isOpened():\n",
    "        _,frame = cap.read()\n",
    "        cap.release() #releasing camera immediately after capturing picture\n",
    "        if _ and frame is not None:\n",
    "            cv2.imwrite(imgpath, frame)\n",
    "    return imgpath\n",
    "\n",
    "def show_image(thisimg):\n",
    "    %matplotlib inline\n",
    "    img = cv2.imread(thisimg) \n",
    "    \n",
    "    f = plt.figure(figsize=(30, 30)) \n",
    "    \n",
    "    f.add_subplot(2, 1, 1) \n",
    "    plt.title(\"Still Image - gray\")\n",
    "    grayImg = cv2.cvtColor(img, cv2.COLOR_BGR2GRAY)\n",
    "    plt.imshow(grayImg, cmap = 'gray') \n",
    "    plt.show()\n",
    "\n",
    "    f = plt.figure(figsize=(30, 30))\n",
    "    \n",
    "    f.add_subplot(2, 1, 2) \n",
    "    plt.title(\"Still Image - original color image\")\n",
    "    plt.imshow(cv2.cvtColor(img, cv2.COLOR_BGR2RGB)) \n",
    "    plt.show()                \n",
    "\n",
    "# Stop when ctrl-c or stop button is pressed\n",
    "__isRunning = True\n",
    "\n",
    "def stop_running(signum, frame):\n",
    "    global __isRunning\n",
    "    global chassis\n",
    "    print('Stopping...')\n",
    "    __isRunning = False\n",
    "    chassis.set_velocity(0,90,0)  # reset\n",
    "    print('Stopped!')"
   ]
  },
  {
   "cell_type": "markdown",
   "id": "70353eb9-bf90-4a1f-b9c8-11d72e70132a",
   "metadata": {},
   "source": [
    "#### MAIN Block"
   ]
  },
  {
   "cell_type": "code",
   "execution_count": null,
   "id": "fa4eb868-0c5f-474f-85ea-8738f5dfd7e6",
   "metadata": {
    "tags": []
   },
   "outputs": [],
   "source": [
    "import cv2\n",
    "import os\n",
    "from datetime import datetime\n",
    "\n",
    "# make the images dir if it does not exist\n",
    "!mkdir -p $HOME/images\n",
    "homedir = os.getenv('HOME')\n",
    "imgdir = f'{homedir}/images'\n",
    "\n",
    "if __name__ == '__main__':\n",
    "    img = take_image(imgdir)\n",
    "    show_image(img)"
   ]
  },
  {
   "cell_type": "code",
   "execution_count": null,
   "id": "5824a417-ef3a-4d62-8a29-63380762779f",
   "metadata": {},
   "outputs": [],
   "source": []
  }
 ],
 "metadata": {
  "kernelspec": {
   "display_name": "Python 3 (ipykernel)",
   "language": "python",
   "name": "python3"
  },
  "language_info": {
   "codemirror_mode": {
    "name": "ipython",
    "version": 3
   },
   "file_extension": ".py",
   "mimetype": "text/x-python",
   "name": "python",
   "nbconvert_exporter": "python",
   "pygments_lexer": "ipython3",
   "version": "3.9.2"
  }
 },
 "nbformat": 4,
 "nbformat_minor": 5
}
