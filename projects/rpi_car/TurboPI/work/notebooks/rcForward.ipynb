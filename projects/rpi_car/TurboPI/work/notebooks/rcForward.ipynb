{
 "cells": [
  {
   "cell_type": "markdown",
   "id": "03a4ded7-e0c8-49c0-a5eb-f9462cb587ba",
   "metadata": {},
   "source": [
    "## Activate Robot Car Forward"
   ]
  },
  {
   "cell_type": "markdown",
   "id": "3ad520a7-a5e3-458d-b2e3-aac93cb9637d",
   "metadata": {},
   "source": [
    "#### Import Libraries and log info"
   ]
  },
  {
   "cell_type": "code",
   "execution_count": 1,
   "id": "7189b4a0-9c8e-40b1-ad9e-a92368924904",
   "metadata": {
    "tags": []
   },
   "outputs": [
    {
     "name": "stdout",
     "output_type": "stream",
     "text": [
      "\n",
      "**********************************************************\n",
      "******** BUSH FCSR Robot Car Forward Test **********\n",
      "**********************************************************\n",
      "----------------------------------------------------------\n",
      "FCSR website:https://chandrunarayan.github.io/fcsr\n",
      "----------------------------------------------------------\n",
      "Tips:\n",
      " * Press ctrl-c or stop button to exit\n",
      "----------------------------------------------------------\n",
      "\n"
     ]
    }
   ],
   "source": [
    "#!/usr/bin/python3\n",
    "# coding=utf8\n",
    "import sys\n",
    "sys.path.append('/home/pi/work/notebooks/TurboPi/') # custom version of TurboPI\n",
    "import HiwonderSDK.FCSRMecanumChassis as mecanum\n",
    "import time\n",
    "import signal\n",
    "\n",
    "\n",
    "if sys.version_info.major == 2:\n",
    "    print('Please run this program with python3!')\n",
    "    sys.exit(0)\n",
    "    \n",
    "print('''\n",
    "**********************************************************\n",
    "******** BUSH FCSR Robot Car Forward Test **********\n",
    "**********************************************************\n",
    "----------------------------------------------------------\n",
    "FCSR website:https://chandrunarayan.github.io/fcsr\n",
    "----------------------------------------------------------\n",
    "Tips:\n",
    " * Press ctrl-c or stop button to exit\n",
    "----------------------------------------------------------\n",
    "''')"
   ]
  },
  {
   "cell_type": "markdown",
   "id": "a8cab390-6f8d-435a-9a5e-89f7392699c5",
   "metadata": {},
   "source": [
    "#### Functions Block"
   ]
  },
  {
   "cell_type": "code",
   "execution_count": 2,
   "id": "a9c109e1-1f43-4bb0-88a9-c9c0c0353b32",
   "metadata": {
    "tags": []
   },
   "outputs": [],
   "source": [
    "# Stop when ctrl-c or stop button is pressed\n",
    "__isRunning = True\n",
    "\n",
    "def stop_running(signum, frame):\n",
    "    global __isRunning\n",
    "    \n",
    "    print('Stopping...')\n",
    "    __isRunning = False\n",
    "    chassis.set_velocity(0,0,0)  # reset\n",
    "    time.sleep(1)\n",
    "    print('Stopped!')"
   ]
  },
  {
   "cell_type": "markdown",
   "id": "c55da45a-f0e2-44d4-a75c-cf79ebb8d505",
   "metadata": {},
   "source": [
    "#### MAIN Block"
   ]
  },
  {
   "cell_type": "code",
   "execution_count": 3,
   "id": "7d6bdd54-1cd0-4df8-8b1a-283797229787",
   "metadata": {
    "tags": []
   },
   "outputs": [
    {
     "name": "stdout",
     "output_type": "stream",
     "text": [
      "Stopping...\n",
      "Stopped!\n"
     ]
    }
   ],
   "source": [
    "chassis = mecanum.MecanumChassis()\n",
    "\n",
    "if __name__ == '__main__':\n",
    "    while __isRunning:\n",
    "        signal.signal(signal.SIGINT, stop_running)\n",
    "        chassis.set_velocity(50,90,0) # rpm,angle,angular rate\n",
    "        time.sleep(3)\n",
    "        chassis.set_velocity(50,-90,0) # rpm,angle,angular rate\n",
    "        time.sleep(3)\n",
    "        chassis.set_velocity(0,0,0)  # reset        "
   ]
  }
 ],
 "metadata": {
  "kernelspec": {
   "display_name": "Python 3 (ipykernel)",
   "language": "python",
   "name": "python3"
  },
  "language_info": {
   "codemirror_mode": {
    "name": "ipython",
    "version": 3
   },
   "file_extension": ".py",
   "mimetype": "text/x-python",
   "name": "python",
   "nbconvert_exporter": "python",
   "pygments_lexer": "ipython3",
   "version": "3.9.2"
  }
 },
 "nbformat": 4,
 "nbformat_minor": 5
}
