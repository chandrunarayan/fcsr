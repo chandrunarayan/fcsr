{
 "cells": [
  {
   "cell_type": "markdown",
   "id": "27223523-b6e9-43a0-9763-c3e17b3d7ade",
   "metadata": {},
   "source": [
    "## Hardware Test Robot Car Buzzer LEDs Servos & Motors"
   ]
  },
  {
   "cell_type": "code",
   "execution_count": 1,
   "id": "f9471879-8abd-493a-a4c1-b0aa002fb39b",
   "metadata": {
    "tags": []
   },
   "outputs": [
    {
     "name": "stdout",
     "output_type": "stream",
     "text": [
      "\n",
      "**********************************************************\n",
      "******** BUSH FCSR Robot Car Hardware Test **********\n",
      "**********************************************************\n",
      "----------------------------------------------------------\n",
      "FCSR website:https://chandrunarayan.github.io/fcsr\n",
      "----------------------------------------------------------\n",
      "Tips:\n",
      " * Press ctrl-c to exit\n",
      "----------------------------------------------------------\n",
      "\n"
     ]
    }
   ],
   "source": [
    "#### IMPORT LIBRARIES Code Block\n",
    "import os\n",
    "import sys\n",
    "sys.path.append('/home/pi/work/notebooks/TurboPi/')\n",
    "import HiwonderSDK.FCSRBoard as FCSRBoard\n",
    "import HiwonderSDK.FCSRMecanumChassis as FCSRMecanum\n",
    "import HiwonderSDK.FCSRSonar as FCSRSonar\n",
    "import board\n",
    "import neopixel\n",
    "import matplotlib.pyplot as plt\n",
    "import cv2\n",
    "import random,math,time\n",
    "from time import sleep\n",
    "from datetime import datetime\n",
    "from sys import exit\n",
    "import subprocess\n",
    "from gpiozero import LED, Buzzer, Button, MotionSensor\n",
    "import signal\n",
    "from signal import pause\n",
    "import time\n",
    "from smbus2 import SMBus, i2c_msg\n",
    "print('''\n",
    "**********************************************************\n",
    "******** BUSH FCSR Robot Car Hardware Test **********\n",
    "**********************************************************\n",
    "----------------------------------------------------------\n",
    "FCSR website:https://chandrunarayan.github.io/fcsr\n",
    "----------------------------------------------------------\n",
    "Tips:\n",
    " * Press ctrl-c to exit\n",
    "----------------------------------------------------------\n",
    "''')"
   ]
  },
  {
   "cell_type": "markdown",
   "id": "26fd3043-ab2f-461b-9bc7-8943ecdb954f",
   "metadata": {},
   "source": [
    "#### Functions Block"
   ]
  },
  {
   "cell_type": "code",
   "execution_count": 2,
   "id": "4213c0a8-9f98-4513-9c4a-7b0509175b57",
   "metadata": {
    "tags": []
   },
   "outputs": [],
   "source": [
    "# Stop when ctrl-c or stop button is pressed\n",
    "__isRunning = True\n",
    "\n",
    "def stop_running(signum, frame):\n",
    "    global __isRunning\n",
    "    \n",
    "    print('Stopping...')\n",
    "    __isRunning = False\n",
    "    chassis.set_velocity(0,0,0)  # reset\n",
    "    time.sleep(1)\n",
    "    print('Stopped!')"
   ]
  },
  {
   "cell_type": "markdown",
   "id": "4415b10b-4a5e-4a00-afcd-f0141636d511",
   "metadata": {},
   "source": [
    "#### MAIN Blocks"
   ]
  },
  {
   "cell_type": "code",
   "execution_count": 3,
   "id": "de0c0037-8ff7-440a-abdc-df434ba4afae",
   "metadata": {
    "tags": []
   },
   "outputs": [
    {
     "name": "stdout",
     "output_type": "stream",
     "text": [
      "\n",
      "----------------------------------------------------------\n",
      "Starting LED Test...\n",
      "Tips:\n",
      " * Press ctrl-c or stop button to exit\n",
      "----------------------------------------------------------\n",
      "\n"
     ]
    }
   ],
   "source": [
    "## LED Test\n",
    "print('''\n",
    "----------------------------------------------------------\n",
    "Starting LED Test...\n",
    "Tips:\n",
    " * Press ctrl-c or stop button to exit\n",
    "----------------------------------------------------------\n",
    "''')\n",
    "FCSRBoard.reset() # turn off LEDs\n",
    "FCSRBoard.initialize()# display initial LED patterns\n",
    "FCSRBoard.finish()# display final LED patterns"
   ]
  },
  {
   "cell_type": "code",
   "execution_count": 4,
   "id": "c2f39908-12ce-4a00-ad79-6310ab4d43c4",
   "metadata": {},
   "outputs": [
    {
     "name": "stdout",
     "output_type": "stream",
     "text": [
      "\n",
      "----------------------------------------------------------\n",
      "Starting Buzzer Test...\n",
      "Tips:\n",
      " * Press ctrl-c or stop button to exit\n",
      "----------------------------------------------------------\n",
      "\n"
     ]
    }
   ],
   "source": [
    "## Buzzer Test\n",
    "print('''\n",
    "----------------------------------------------------------\n",
    "Starting Buzzer Test...\n",
    "Tips:\n",
    " * Press ctrl-c or stop button to exit\n",
    "----------------------------------------------------------\n",
    "''')\n",
    "FCSRBoard.setBuzzer(FCSRBoard.buzzer,1) # Buzzer on for 0.3 sec\n",
    "sleep(0.3)\n",
    "FCSRBoard.setBuzzer(FCSRBoard.buzzer,0) # Buzzer off"
   ]
  },
  {
   "cell_type": "code",
   "execution_count": 5,
   "id": "6a4a82ac-e6ce-48d2-8da9-d219e83581e1",
   "metadata": {
    "tags": []
   },
   "outputs": [
    {
     "name": "stdout",
     "output_type": "stream",
     "text": [
      "\n",
      "----------------------------------------------------------\n",
      "Starting Servos Test...\n",
      "Tips:\n",
      " * Press ctrl-c or stop button to exit\n",
      "----------------------------------------------------------\n",
      "\n"
     ]
    }
   ],
   "source": [
    "## Servos Test\n",
    "print('''\n",
    "----------------------------------------------------------\n",
    "Starting Servos Test...\n",
    "Tips:\n",
    " * Press ctrl-c or stop button to exit\n",
    "----------------------------------------------------------\n",
    "''')\n",
    "FCSRBoard.setPWMServoPulse(1, 1800, 300) # Channel 1 loc 1800 for 300 ms\n",
    "time.sleep(0.3)\n",
    "FCSRBoard.setPWMServoPulse(1, 1500, 300) # Channel 1 loc 1500 for 300 ms\n",
    "time.sleep(0.3)\n",
    "FCSRBoard.setPWMServoPulse(1, 1200, 300) # Channel 1 loc 1200 for 300 ms\n",
    "time.sleep(0.3)\n",
    "FCSRBoard.setPWMServoPulse(1, 1500, 300) # Channel 1 loc 1500 for 300 ms\n",
    "time.sleep(1.5)\n",
    "\n",
    "FCSRBoard.setPWMServoPulse(2, 1200, 300) # Channel 2 loc 1200 for 300 ms\n",
    "time.sleep(0.3)\n",
    "FCSRBoard.setPWMServoPulse(2, 1500, 300) # Channel 2 loc 1500 for 300 ms\n",
    "time.sleep(0.3)\n",
    "FCSRBoard.setPWMServoPulse(2, 1800, 300) # Channel 2 loc 1800 for 300 ms\n",
    "time.sleep(0.3)\n",
    "FCSRBoard.setPWMServoPulse(2, 1500, 300) # Channel 2 loc 1500 for 300 ms \n",
    "time.sleep(1.5)\n",
    "\n"
   ]
  },
  {
   "cell_type": "code",
   "execution_count": 6,
   "id": "6db520e7-de80-4e0a-8e9f-b0ac3fbc9828",
   "metadata": {},
   "outputs": [
    {
     "name": "stdout",
     "output_type": "stream",
     "text": [
      "\n",
      "----------------------------------------------------------\n",
      "Starting Motors Test...\n",
      "Tips:\n",
      " * Press ctrl-c or stop button to exit\n",
      "----------------------------------------------------------\n",
      "\n"
     ]
    }
   ],
   "source": [
    "## Motors Test\n",
    "print('''\n",
    "----------------------------------------------------------\n",
    "Starting Motors Test...\n",
    "Tips:\n",
    " * Press ctrl-c or stop button to exit\n",
    "----------------------------------------------------------\n",
    "''')\n",
    "FCSRBoard.setMotor(1, 45) # Wheel 1 spd 45rpm forward \n",
    "time.sleep(1)\n",
    "FCSRBoard.setMotor(1, 0) # Wheel 1 off\n",
    "time.sleep(1)\n",
    "        \n",
    "FCSRBoard.setMotor(2, 45) # Wheel 2 spd 45rpm forward\n",
    "time.sleep(1)\n",
    "FCSRBoard.setMotor(2, 0) # Wheel 2 off\n",
    "time.sleep(1)\n",
    "\n",
    "FCSRBoard.setMotor(3, 45) # Wheel 3 spd 45rpm forward\n",
    "time.sleep(1)\n",
    "FCSRBoard.setMotor(3, 0) # Wheel 3 off\n",
    "time.sleep(1)\n",
    "\n",
    "FCSRBoard.setMotor(4, 45) # Wheel 4 spd 45rpm forward\n",
    "time.sleep(1)\n",
    "FCSRBoard.setMotor(4, 0) # Wheel 4 off\n",
    "time.sleep(1)"
   ]
  },
  {
   "cell_type": "code",
   "execution_count": null,
   "id": "50cdfc3b-d09e-415b-b721-23987e86a881",
   "metadata": {},
   "outputs": [],
   "source": []
  }
 ],
 "metadata": {
  "kernelspec": {
   "display_name": "Python 3 (ipykernel)",
   "language": "python",
   "name": "python3"
  },
  "language_info": {
   "codemirror_mode": {
    "name": "ipython",
    "version": 3
   },
   "file_extension": ".py",
   "mimetype": "text/x-python",
   "name": "python",
   "nbconvert_exporter": "python",
   "pygments_lexer": "ipython3",
   "version": "3.9.2"
  }
 },
 "nbformat": 4,
 "nbformat_minor": 5
}
