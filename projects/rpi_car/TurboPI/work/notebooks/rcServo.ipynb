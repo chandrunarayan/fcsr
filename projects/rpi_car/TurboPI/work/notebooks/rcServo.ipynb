{
 "cells": [
  {
   "cell_type": "markdown",
   "id": "2cf3ee97-a442-4445-af43-301896fb7236",
   "metadata": {},
   "source": [
    "## Activate Robot Car Servos"
   ]
  },
  {
   "cell_type": "markdown",
   "id": "2c5d4104-0cac-4847-b24e-604bfde36074",
   "metadata": {},
   "source": [
    "#### Import Libraries and log info"
   ]
  },
  {
   "cell_type": "code",
   "execution_count": 1,
   "id": "3d962ab0-165d-44c9-a1e9-07d597892753",
   "metadata": {
    "tags": []
   },
   "outputs": [
    {
     "name": "stdout",
     "output_type": "stream",
     "text": [
      "\n",
      "**********************************************************\n",
      "******** BUSH FCSR Robot Car Servo Test **********\n",
      "**********************************************************\n",
      "----------------------------------------------------------\n",
      "FCSR website:https://chandrunarayan.github.io/fcsr\n",
      "----------------------------------------------------------\n",
      "Tips:\n",
      " * Press ctrl-c or stop button to exit\n",
      "----------------------------------------------------------\n",
      "\n"
     ]
    }
   ],
   "source": [
    "#!/usr/bin/python3\n",
    "# coding=utf8\n",
    "import sys\n",
    "sys.path.append('/home/pi/work/notebooks/TurboPi/') # cutom version of TurboPI\n",
    "import HiwonderSDK.FCSRBoard as FCSRBoard\n",
    "import time\n",
    "import signal\n",
    "from signal import pause\n",
    "import threading\n",
    "\n",
    "if sys.version_info.major == 2:\n",
    "    print('Please run this program with python3!')\n",
    "    sys.exit(0)\n",
    "    \n",
    "print('''\n",
    "**********************************************************\n",
    "******** BUSH FCSR Robot Car Servo Test **********\n",
    "**********************************************************\n",
    "----------------------------------------------------------\n",
    "FCSR website:https://chandrunarayan.github.io/fcsr\n",
    "----------------------------------------------------------\n",
    "Tips:\n",
    " * Press ctrl-c or stop button to exit\n",
    "----------------------------------------------------------\n",
    "''')"
   ]
  },
  {
   "cell_type": "markdown",
   "id": "e76797bb-e949-4564-aeab-6af8470f779a",
   "metadata": {},
   "source": [
    "#### Functions Block"
   ]
  },
  {
   "cell_type": "code",
   "execution_count": 2,
   "id": "94693c8c-a085-4d9b-a604-421925e47558",
   "metadata": {
    "tags": []
   },
   "outputs": [],
   "source": [
    "# Stop when ctrl-c or stop button is pressed\n",
    "__isRunning = True\n",
    "\n",
    "def stop_running(signum, frame):\n",
    "    global __isRunning\n",
    "    \n",
    "    print('Stopping...')\n",
    "    __isRunning = False\n",
    "    FCSRBoard.setPWMServoPulse(1, 1500, 1000) # go back to initial when stopped\n",
    "    FCSRBoard.setPWMServoPulse(2, 1500, 1000) # go back to initial when stopped\n",
    "    time.sleep(1)\n",
    "    print('Stopped!')\n",
    "    "
   ]
  },
  {
   "cell_type": "markdown",
   "id": "447d6766-f665-472b-8e19-92dfd2a1729d",
   "metadata": {},
   "source": [
    "#### MAIN Block"
   ]
  },
  {
   "cell_type": "code",
   "execution_count": 3,
   "id": "daf3f90b-5da6-4211-9438-83b34e77d34d",
   "metadata": {
    "tags": []
   },
   "outputs": [
    {
     "name": "stdout",
     "output_type": "stream",
     "text": [
      "Stopping...\n",
      "Stopped!\n"
     ]
    }
   ],
   "source": [
    "#\n",
    "# MAIN Block\n",
    "# Operate Both Servos\n",
    "#\n",
    "\n",
    "if __name__ == '__main__':\n",
    "    while __isRunning:\n",
    "        signal.signal(signal.SIGINT, stop_running)\n",
    "        \n",
    "        FCSRBoard.setPWMServoPulse(1, 1500, 1000) # Channel 1 loc 1500 for 1000 ms\n",
    "        time.sleep(1)\n",
    "        FCSRBoard.setPWMServoPulse(1, 2000, 1000) # # Channel 1 loc 1500 for 1000 ms\n",
    "        time.sleep(1)\n",
    "        FCSRBoard.setPWMServoPulse(2, 1200, 300) # Channel 2 loc 1200 for 300 ms\n",
    "        time.sleep(1)\n",
    "        FCSRBoard.setPWMServoPulse(2, 1800, 300) # Channel 2 loc 1800 for 300 ms\n",
    "        time.sleep(1)"
   ]
  },
  {
   "cell_type": "code",
   "execution_count": null,
   "id": "b409aaa1-bb89-4c76-8289-f9701a16f659",
   "metadata": {},
   "outputs": [],
   "source": []
  },
  {
   "cell_type": "code",
   "execution_count": null,
   "id": "e47ffe5c-b033-46dc-9f84-a3d66fd7a0b1",
   "metadata": {},
   "outputs": [],
   "source": []
  }
 ],
 "metadata": {
  "kernelspec": {
   "display_name": "Python 3 (ipykernel)",
   "language": "python",
   "name": "python3"
  },
  "language_info": {
   "codemirror_mode": {
    "name": "ipython",
    "version": 3
   },
   "file_extension": ".py",
   "mimetype": "text/x-python",
   "name": "python",
   "nbconvert_exporter": "python",
   "pygments_lexer": "ipython3",
   "version": "3.9.2"
  }
 },
 "nbformat": 4,
 "nbformat_minor": 5
}
