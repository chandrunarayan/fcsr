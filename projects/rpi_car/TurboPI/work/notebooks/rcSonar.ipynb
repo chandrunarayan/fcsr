{
 "cells": [
  {
   "cell_type": "markdown",
   "id": "2a81b437-9be1-4e22-9479-290ee2c397e8",
   "metadata": {},
   "source": [
    "## Activate Ultrasonic Sensors and Test"
   ]
  },
  {
   "cell_type": "markdown",
   "id": "ba7aa064-f8b7-4bba-9b58-b0591f694b1c",
   "metadata": {},
   "source": [
    "#### Import Libraries and log info"
   ]
  },
  {
   "cell_type": "code",
   "execution_count": null,
   "id": "ad01bffe-6831-41e4-adbd-38f307825a6c",
   "metadata": {
    "tags": []
   },
   "outputs": [],
   "source": [
    "#!/usr/bin/python3\n",
    "# coding=utf8\n",
    "import sys\n",
    "sys.path.append('/home/pi/work/notebooks/TurboPi/') # custom version of TurboPI\n",
    "import HiwonderSDK.FCSRSonar as FCSRSonar\n",
    "import time\n",
    "import signal\n",
    "from signal import pause\n",
    "import threading\n",
    "\n",
    "if sys.version_info.major == 2:\n",
    "    print('Please run this program with python3!')\n",
    "    sys.exit(0)\n",
    "    \n",
    "print('''\n",
    "**********************************************************\n",
    "******** BUSH FCSR Ultrasonic Sensor Test **********\n",
    "**********************************************************\n",
    "----------------------------------------------------------\n",
    "FCSR website:https://chandrunarayan.github.io/fcsr\n",
    "----------------------------------------------------------\n",
    "Tips:\n",
    " * Press ctrl-c or stop button to exit\n",
    "----------------------------------------------------------\n",
    "''')"
   ]
  },
  {
   "cell_type": "markdown",
   "id": "3d329df2-be83-46ea-94dc-0076eab7795c",
   "metadata": {},
   "source": [
    "#### Functions Block"
   ]
  },
  {
   "cell_type": "code",
   "execution_count": null,
   "id": "27780678-16ea-43e5-98b8-4105e7b64fa5",
   "metadata": {
    "tags": []
   },
   "outputs": [],
   "source": [
    "# Stop when ctrl-c or stop button is pressed\n",
    "__isRunning = True\n",
    "\n",
    "def stop_running(signum, frame):\n",
    "    global __isRunning\n",
    "    \n",
    "    print('Stopping...')\n",
    "    __isRunning = False\n",
    "    s.stopSymphony() # reset\n",
    "    time.sleep(1)\n",
    "    print('Stopped!')"
   ]
  },
  {
   "cell_type": "markdown",
   "id": "6becde69-1904-4ff3-82a4-3d6a00cbd77d",
   "metadata": {},
   "source": [
    "#### MAIN Block"
   ]
  },
  {
   "cell_type": "code",
   "execution_count": null,
   "id": "693841e0-f0a9-4059-abf0-cbc6b8e1f5a5",
   "metadata": {},
   "outputs": [],
   "source": [
    "## MAIN\n",
    "print('Running local Sonar in Jupyter!')\n",
    "s = FCSRSonar.Sonar()\n",
    "s.startSymphony()\n",
    "if __name__ == '__main__':\n",
    "    while __isRunning:\n",
    "        signal.signal(signal.SIGINT, stop_running)\n",
    "        time.sleep(1)\n",
    "        print(s.getDistance()) "
   ]
  },
  {
   "cell_type": "code",
   "execution_count": null,
   "id": "a2ccf2ae-58ec-4bd6-a50d-0b56a873dca8",
   "metadata": {},
   "outputs": [],
   "source": []
  }
 ],
 "metadata": {
  "kernelspec": {
   "display_name": "Python 3 (ipykernel)",
   "language": "python",
   "name": "python3"
  },
  "language_info": {
   "codemirror_mode": {
    "name": "ipython",
    "version": 3
   },
   "file_extension": ".py",
   "mimetype": "text/x-python",
   "name": "python",
   "nbconvert_exporter": "python",
   "pygments_lexer": "ipython3",
   "version": "3.9.2"
  }
 },
 "nbformat": 4,
 "nbformat_minor": 5
}
