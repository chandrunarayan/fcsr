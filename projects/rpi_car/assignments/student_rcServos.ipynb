{
 "cells": [
  {
   "cell_type": "markdown",
   "id": "27223523-b6e9-43a0-9763-c3e17b3d7ade",
   "metadata": {},
   "source": [
    "## Assignment: SnooPi Servos\n",
    "### Use other SnooPi notebooks as references for making the changes\n",
    "1. You are now accessing this notebook on Google Cloud (not SnooPi)\n",
    "1. Rename this notebook by replacing \"student\" with your name\n",
    "1. Then Download this notebook to your laptop & drag to SnooPi's Jupyter Lab\n",
    "1. First test to verify this notebook on SnooPi before modifications\n",
    "1. Add code at the very end to move servo left - take picture\n",
    "1. Add code at the very end to move servo right - take picture\n",
    "1. Add code at the very end to move servo top - take picture\n",
    "1. Add code at the very end to move servo bottom - take picture\n",
    "1. Test your code again - does it work?"
   ]
  },
  {
   "cell_type": "code",
   "execution_count": 1,
   "id": "f9471879-8abd-493a-a4c1-b0aa002fb39b",
   "metadata": {
    "tags": []
   },
   "outputs": [
    {
     "name": "stdout",
     "output_type": "stream",
     "text": [
      "\n",
      "**********************************************************\n",
      "******** BUSH FCSR Robot Car Hardware Test **********\n",
      "**********************************************************\n",
      "----------------------------------------------------------\n",
      "FCSR website:https://chandrunarayan.github.io/fcsr\n",
      "----------------------------------------------------------\n",
      "Tips:\n",
      " * Press ctrl-c to exit\n",
      "----------------------------------------------------------\n",
      "\n"
     ]
    }
   ],
   "source": [
    "#### IMPORT LIBRARIES Code Block\n",
    "import os\n",
    "import sys\n",
    "sys.path.append('/home/pi/work/notebooks/TurboPi/')\n",
    "import FCSRSDK.yaml_handle as yaml_handle\n",
    "import FCSRSDK.Camera as Camera\n",
    "import FCSRSDK.FCSRSonar as Sonar\n",
    "import FCSRSDK.FCSRBoard as Board\n",
    "import FCSRSDK.FCSRMecanumChassis as mecanum\n",
    "import board\n",
    "import neopixel\n",
    "import matplotlib.pyplot as plt\n",
    "import cv2\n",
    "import random,math,time\n",
    "from time import sleep\n",
    "from datetime import datetime\n",
    "from sys import exit\n",
    "import subprocess\n",
    "from gpiozero import LED, Buzzer, Button, MotionSensor\n",
    "import signal\n",
    "from signal import pause\n",
    "import time\n",
    "from smbus2 import SMBus, i2c_msg\n",
    "print('''\n",
    "**********************************************************\n",
    "******** BUSH FCSR Robot Car Hardware Test **********\n",
    "**********************************************************\n",
    "----------------------------------------------------------\n",
    "FCSR website:https://chandrunarayan.github.io/fcsr\n",
    "----------------------------------------------------------\n",
    "Tips:\n",
    " * Press ctrl-c to exit\n",
    "----------------------------------------------------------\n",
    "''')"
   ]
  },
  {
   "cell_type": "markdown",
   "id": "26fd3043-ab2f-461b-9bc7-8943ecdb954f",
   "metadata": {},
   "source": [
    "#### Functions Block"
   ]
  },
  {
   "cell_type": "code",
   "execution_count": 2,
   "id": "4213c0a8-9f98-4513-9c4a-7b0509175b57",
   "metadata": {
    "tags": []
   },
   "outputs": [],
   "source": [
    "def take_image(imgdir):\n",
    "    global camera\n",
    "    # datetime object containing current date and time\n",
    "    \n",
    "    now = datetime.now()\n",
    "    #thisdate = today.strftime(\"%b-%d-%Y-%hr-%M\")\n",
    "    thisdate = now.strftime(\"%d%m%Y%H%M%S\")\n",
    "    thisimg = f'testimg_{thisdate}.jpg'\n",
    "    imgpath = f'{imgdir}/{thisimg}'\n",
    "    cap = cv2.VideoCapture(0)\n",
    "    #cap.set(3,1280) #width=1280\n",
    "    #cap.set(4,960) #height=960\n",
    "    if cap.isOpened():\n",
    "        _,frame = cap.read()\n",
    "        cap.release() #releasing camera immediately after capturing picture\n",
    "        if _ and frame is not None:\n",
    "            cv2.imwrite(imgpath, frame)\n",
    "    return imgpath\n",
    "\n",
    "def show_image(thisimg):\n",
    "    %matplotlib inline\n",
    "    img = cv2.imread(thisimg) \n",
    "    \n",
    "    f = plt.figure(figsize=(30, 30)) \n",
    "    \n",
    "    f.add_subplot(2, 1, 1) \n",
    "    plt.title(\"Still Image - gray\")\n",
    "    grayImg = cv2.cvtColor(img, cv2.COLOR_BGR2GRAY)\n",
    "    plt.imshow(grayImg, cmap = 'gray') \n",
    "    plt.show()\n",
    "\n",
    "    f = plt.figure(figsize=(30, 30))\n",
    "    \n",
    "    f.add_subplot(2, 1, 2) \n",
    "    plt.title(\"Still Image - original color image\")\n",
    "    plt.imshow(cv2.cvtColor(img, cv2.COLOR_BGR2RGB)) \n",
    "    plt.show()                \n",
    "\n",
    "# Stop when ctrl-c or stop button is pressed\n",
    "__isRunning = True\n",
    "\n",
    "def stop_running(signum, frame):\n",
    "    global __isRunning\n",
    "    global chassis\n",
    "    print('Stopping...')\n",
    "    __isRunning = False\n",
    "    chassis.set_velocity(0,90,0)  # reset\n",
    "    print('Stopped!')\n",
    "\n",
    "# Stop when ctrl-c or stop button is pressed\n",
    "__isRunning = True\n",
    "\n",
    "def stop_running(signum, frame):\n",
    "    global __isRunning\n",
    "    \n",
    "    print('Stopping...')\n",
    "    __isRunning = False\n",
    "    chassis.set_velocity(0,0,0)  # reset\n",
    "    time.sleep(1)\n",
    "    print('Stopped!')"
   ]
  },
  {
   "cell_type": "markdown",
   "id": "4415b10b-4a5e-4a00-afcd-f0141636d511",
   "metadata": {},
   "source": [
    "#### MAIN Blocks"
   ]
  },
  {
   "cell_type": "code",
   "execution_count": 3,
   "id": "6a4a82ac-e6ce-48d2-8da9-d219e83581e1",
   "metadata": {
    "tags": []
   },
   "outputs": [
    {
     "name": "stdout",
     "output_type": "stream",
     "text": [
      "\n",
      "----------------------------------------------------------\n",
      "Starting Servos Test...\n",
      "Tips:\n",
      " * Press ctrl-c or stop button to exit\n",
      "----------------------------------------------------------\n",
      "\n",
      "Stopping...\n"
     ]
    },
    {
     "ename": "NameError",
     "evalue": "name 'chassis' is not defined",
     "output_type": "error",
     "traceback": [
      "\u001b[0;31m---------------------------------------------------------------------------\u001b[0m",
      "\u001b[0;31mNameError\u001b[0m                                 Traceback (most recent call last)",
      "Cell \u001b[0;32mIn[3], line 19\u001b[0m\n\u001b[1;32m     17\u001b[0m time\u001b[38;5;241m.\u001b[39msleep(\u001b[38;5;241m0.3\u001b[39m)\n\u001b[1;32m     18\u001b[0m Board\u001b[38;5;241m.\u001b[39msetPWMServoPulse(\u001b[38;5;241m1\u001b[39m, \u001b[38;5;241m1200\u001b[39m, \u001b[38;5;241m300\u001b[39m) \u001b[38;5;66;03m# Channel 1 loc 1200 for 300 ms\u001b[39;00m\n\u001b[0;32m---> 19\u001b[0m \u001b[43mtime\u001b[49m\u001b[38;5;241;43m.\u001b[39;49m\u001b[43msleep\u001b[49m\u001b[43m(\u001b[49m\u001b[38;5;241;43m0.3\u001b[39;49m\u001b[43m)\u001b[49m\n\u001b[1;32m     20\u001b[0m Board\u001b[38;5;241m.\u001b[39msetPWMServoPulse(\u001b[38;5;241m1\u001b[39m, \u001b[38;5;241m1500\u001b[39m, \u001b[38;5;241m300\u001b[39m) \u001b[38;5;66;03m# Channel 1 loc 1500 for 300 ms\u001b[39;00m\n\u001b[1;32m     21\u001b[0m time\u001b[38;5;241m.\u001b[39msleep(\u001b[38;5;241m1.5\u001b[39m)\n",
      "Cell \u001b[0;32mIn[2], line 58\u001b[0m, in \u001b[0;36mstop_running\u001b[0;34m(signum, frame)\u001b[0m\n\u001b[1;32m     56\u001b[0m \u001b[38;5;28mprint\u001b[39m(\u001b[38;5;124m'\u001b[39m\u001b[38;5;124mStopping...\u001b[39m\u001b[38;5;124m'\u001b[39m)\n\u001b[1;32m     57\u001b[0m __isRunning \u001b[38;5;241m=\u001b[39m \u001b[38;5;28;01mFalse\u001b[39;00m\n\u001b[0;32m---> 58\u001b[0m \u001b[43mchassis\u001b[49m\u001b[38;5;241m.\u001b[39mset_velocity(\u001b[38;5;241m0\u001b[39m,\u001b[38;5;241m0\u001b[39m,\u001b[38;5;241m0\u001b[39m)  \u001b[38;5;66;03m# reset\u001b[39;00m\n\u001b[1;32m     59\u001b[0m time\u001b[38;5;241m.\u001b[39msleep(\u001b[38;5;241m1\u001b[39m)\n\u001b[1;32m     60\u001b[0m \u001b[38;5;28mprint\u001b[39m(\u001b[38;5;124m'\u001b[39m\u001b[38;5;124mStopped!\u001b[39m\u001b[38;5;124m'\u001b[39m)\n",
      "\u001b[0;31mNameError\u001b[0m: name 'chassis' is not defined"
     ]
    }
   ],
   "source": [
    "## Servos Test\n",
    "print('''\n",
    "----------------------------------------------------------\n",
    "Starting Servos Test...\n",
    "Tips:\n",
    " * Press ctrl-c or stop button to exit\n",
    "----------------------------------------------------------\n",
    "''')\n",
    "\n",
    "chassis = mecanum.MecanumChassis()\n",
    "\n",
    "if __name__ == '__main__':\n",
    "    while __isRunning:\n",
    "        signal.signal(signal.SIGINT, stop_running)\n",
    "        \n",
    "        Board.setPWMServoPulse(1, 1800, 300) # Channel 1 loc 1800 for 300 ms\n",
    "        time.sleep(0.3)\n",
    "        Board.setPWMServoPulse(1, 1500, 300) # Channel 1 loc 1500 for 300 ms\n",
    "        time.sleep(0.3)\n",
    "        Board.setPWMServoPulse(1, 1200, 300) # Channel 1 loc 1200 for 300 ms\n",
    "        time.sleep(0.3)\n",
    "        Board.setPWMServoPulse(1, 1500, 300) # Channel 1 loc 1500 for 300 ms\n",
    "        time.sleep(1.5)\n",
    "\n",
    "        Board.setPWMServoPulse(2, 1200, 300) # Channel 2 loc 1200 for 300 ms\n",
    "        time.sleep(0.3)\n",
    "        Board.setPWMServoPulse(2, 1500, 300) # Channel 2 loc 1500 for 300 ms\n",
    "        time.sleep(0.3)\n",
    "        Board.setPWMServoPulse(2, 1800, 300) # Channel 2 loc 1800 for 300 ms\n",
    "        time.sleep(0.3)\n",
    "        Board.setPWMServoPulse(2, 1500, 300) # Channel 2 loc 1500 for 300 ms \n",
    "        time.sleep(1.5)\n"
   ]
  },
  {
   "cell_type": "code",
   "execution_count": null,
   "id": "9abf0e8b-7d88-43aa-91ef-061a6bfcce51",
   "metadata": {},
   "outputs": [],
   "source": []
  }
 ],
 "metadata": {
  "kernelspec": {
   "display_name": "Python 3 (ipykernel)",
   "language": "python",
   "name": "python3"
  },
  "language_info": {
   "codemirror_mode": {
    "name": "ipython",
    "version": 3
   },
   "file_extension": ".py",
   "mimetype": "text/x-python",
   "name": "python",
   "nbconvert_exporter": "python",
   "pygments_lexer": "ipython3",
   "version": "3.9.13"
  }
 },
 "nbformat": 4,
 "nbformat_minor": 5
}
