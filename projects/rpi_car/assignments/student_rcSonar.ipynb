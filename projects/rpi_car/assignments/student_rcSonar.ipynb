{
  "cells": [
    {
      "cell_type": "markdown",
      "source": [
        "## Assignment: Ultrasonic Sensors Sonar\n",
        "### Use other SnooPi notebooks as references for making the changes\n",
        "1. First test to verify this notebook before modifications\n",
        "1. Print \"Possible obstacle encountered at distance at actual value cm\"\n",
        "1. Modify to turn ALL LED's RED when obstacle encountered"
      ],
      "metadata": {},
      "id": "2a81b437-9be1-4e22-9479-290ee2c397e8"
    },
    {
      "cell_type": "markdown",
      "source": [
        "#### Import Libraries and log info"
      ],
      "metadata": {},
      "id": "ba7aa064-f8b7-4bba-9b58-b0591f694b1c"
    },
    {
      "cell_type": "code",
      "source": [
        "#### IMPORT LIBRARIES Code Block\n",
        "import os\n",
        "import sys\n",
        "sys.path.append('/home/pi/work/notebooks/TurboPi/')\n",
        "import FCSRSDK.yaml_handle as yaml_handle\n",
        "import FCSRSDK.Camera as Camera\n",
        "import FCSRSDK.FCSRSonar as Sonar\n",
        "import FCSRSDK.FCSRBoard as Board\n",
        "import FCSRSDK.FCSRMecanumChassis as mecanum\n",
        "import board\n",
        "import neopixel\n",
        "import matplotlib.pyplot as plt\n",
        "import cv2\n",
        "import random,math,time\n",
        "from time import sleep\n",
        "from datetime import datetime\n",
        "from sys import exit\n",
        "import subprocess\n",
        "from gpiozero import LED, Buzzer, Button, MotionSensor\n",
        "import signal\n",
        "from signal import pause\n",
        "import time\n",
        "from smbus2 import SMBus, i2c_msg\n",
        "print('''\n",
        "**********************************************************\n",
        "******** BUSH FCSR Robot Car Hardware Test **********\n",
        "**********************************************************\n",
        "----------------------------------------------------------\n",
        "FCSR website:https://chandrunarayan.github.io/fcsr\n",
        "----------------------------------------------------------\n",
        "Tips:\n",
        " * Press ctrl-c to exit\n",
        "----------------------------------------------------------\n",
        "''')"
      ],
      "outputs": [
        {
          "output_type": "stream",
          "name": "stdout",
          "text": [
            "\n",
            "**********************************************************\n",
            "******** BUSH FCSR Robot Car Hardware Test **********\n",
            "**********************************************************\n",
            "----------------------------------------------------------\n",
            "FCSR website:https://chandrunarayan.github.io/fcsr\n",
            "----------------------------------------------------------\n",
            "Tips:\n",
            " * Press ctrl-c to exit\n",
            "----------------------------------------------------------\n",
            "\n"
          ]
        }
      ],
      "execution_count": 1,
      "metadata": {
        "tags": []
      },
      "id": "bc7f8edc-810c-4603-af0d-1be67838df64"
    },
    {
      "cell_type": "markdown",
      "source": [
        "#### Functions Block"
      ],
      "metadata": {},
      "id": "3d329df2-be83-46ea-94dc-0076eab7795c"
    },
    {
      "cell_type": "code",
      "source": [
        "# Stop when ctrl-c or stop button is pressed\n",
        "__isRunning = True\n",
        "\n",
        "def stop_running(signum, frame):\n",
        "    global __isRunning\n",
        "    \n",
        "    print('Stopping...')\n",
        "    __isRunning = False\n",
        "    s.stopSymphony() # reset\n",
        "    time.sleep(1)\n",
        "    print('Stopped!')"
      ],
      "outputs": [],
      "execution_count": 2,
      "metadata": {
        "tags": []
      },
      "id": "27780678-16ea-43e5-98b8-4105e7b64fa5"
    },
    {
      "cell_type": "markdown",
      "source": [
        "#### MAIN Block"
      ],
      "metadata": {},
      "id": "6becde69-1904-4ff3-82a4-3d6a00cbd77d"
    },
    {
      "cell_type": "markdown",
      "source": [
        "## MAIN\n",
        "print('Running local Sonar in Jupyter! Press Stop Button to Terminate')\n"
      ],
      "metadata": {
        "nteract": {
          "transient": {
            "deleting": false
          }
        }
      },
      "id": "693841e0-f0a9-4059-abf0-cbc6b8e1f5a5"
    },
    {
      "cell_type": "code",
      "source": [
        "s = Sonar.Sonar()\n",
        "s.startSymphony()\n",
        "if __name__ == '__main__':\n",
        "    while __isRunning:\n",
        "        signal.signal(signal.SIGINT, stop_running)\n",
        "        time.sleep(1)\n",
        "        print(s.getDistance()) "
      ],
      "outputs": [],
      "execution_count": null,
      "metadata": {},
      "id": "a2ccf2ae-58ec-4bd6-a50d-0b56a873dca8"
    }
  ],
  "metadata": {
    "kernelspec": {
      "display_name": "Python 3 (ipykernel)",
      "language": "python",
      "name": "python3"
    },
    "language_info": {
      "codemirror_mode": {
        "name": "ipython",
        "version": 3
      },
      "file_extension": ".py",
      "mimetype": "text/x-python",
      "name": "python",
      "nbconvert_exporter": "python",
      "pygments_lexer": "ipython3",
      "version": "3.9.2"
    },
    "nteract": {
      "version": "0.28.0"
    }
  },
  "nbformat": 4,
  "nbformat_minor": 5
}