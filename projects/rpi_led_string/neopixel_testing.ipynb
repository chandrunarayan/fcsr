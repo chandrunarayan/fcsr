{
 "cells": [
  {
   "attachments": {},
   "cell_type": "markdown",
   "id": "1531e071",
   "metadata": {},
   "source": [
    "## neopixel_testing.ipynb\n",
    "### Authors: Double-click to edit and add your name here"
   ]
  },
  {
   "attachments": {},
   "cell_type": "markdown",
   "id": "3b18941c",
   "metadata": {},
   "source": [
    "##### PEGBOARD Markdown Block\n",
    "\n",
    "***Add markdown statement here to add the images of your actual wired pegboard***"
   ]
  },
  {
   "cell_type": "code",
   "execution_count": 1,
   "id": "a71291a2-385a-486f-b610-db8d766d5e74",
   "metadata": {
    "tags": []
   },
   "outputs": [],
   "source": [
    "#### IMPORT LIBRARIES Code Block\n",
    "import board\n",
    "import neopixel\n",
    "from time import sleep\n",
    "from sys import exit"
   ]
  },
  {
   "cell_type": "code",
   "execution_count": 2,
   "id": "045b40d1-567f-40b9-b458-29c8f609273c",
   "metadata": {
    "tags": []
   },
   "outputs": [],
   "source": [
    "#### Neopixel Setup Block\n",
    "pixel_pin = board.D18\n",
    "num_pixels = 100\n",
    "ORDER = neopixel.RGB\n",
    "pixels = neopixel.NeoPixel(pixel_pin, num_pixels, \n",
    "                           brightness=0.1, auto_write=False,\n",
    "                           pixel_order=ORDER)"
   ]
  },
  {
   "attachments": {},
   "cell_type": "markdown",
   "id": "57ab7ce5",
   "metadata": {},
   "source": [
    "### Main Code Block\n",
    "\n",
    "## Set all pixels to off\n",
    "pixels.fill((0,0,0))\n",
    "\n",
    "## Set all pixels to White, wait 5 sec and then turn off\n",
    "pixels.fill((255,255,255))\n",
    "pixels.show()\n",
    "sleep(5)\n",
    "pixels.fill((0,0,0))\n",
    "pixels.show()\n",
    "\n",
    "## Set 10th pixel to Blue, wait 5 sec and then turn off\n",
    "pixels[9]=((0,0,255))\n",
    "pixels.show()\n",
    "sleep(5)\n",
    "pixels.fill((0,0,0))\n",
    "pixels.show()\n"
   ]
  },
  {
   "cell_type": "code",
   "execution_count": null,
   "id": "20452dc3",
   "metadata": {},
   "outputs": [],
   "source": [
    "## Can you make a Perfect MAGENTA CROSS 3 pixels thick in each direction in the center of the Matrix??"
   ]
  }
 ],
 "metadata": {
  "kernelspec": {
   "display_name": "Python 3 (ipykernel)",
   "language": "python",
   "name": "python3"
  },
  "language_info": {
   "codemirror_mode": {
    "name": "ipython",
    "version": 3
   },
   "file_extension": ".py",
   "mimetype": "text/x-python",
   "name": "python",
   "nbconvert_exporter": "python",
   "pygments_lexer": "ipython3",
   "version": "3.11.2"
  }
 },
 "nbformat": 4,
 "nbformat_minor": 5
}
