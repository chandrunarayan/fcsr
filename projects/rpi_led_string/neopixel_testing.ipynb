{
 "cells": [
  {
   "attachments": {},
   "cell_type": "markdown",
   "id": "1531e071",
   "metadata": {},
   "source": [
    "## neopixel_testing.ipynb\n",
    "### Authors: Double-click to edit and add your name here"
   ]
  },
  {
   "attachments": {},
   "cell_type": "markdown",
   "id": "3b18941c",
   "metadata": {},
   "source": [
    "### PEGBOARD Markdown Block\n",
    "\n",
    "***Add markdown statement here to add the images of your actual wired pegboard***"
   ]
  },
  {
   "attachments": {},
   "cell_type": "markdown",
   "id": "500644bf",
   "metadata": {},
   "source": [
    "### IMPORT LIBRARIES Block"
   ]
  },
  {
   "cell_type": "code",
   "execution_count": 1,
   "id": "a71291a2-385a-486f-b610-db8d766d5e74",
   "metadata": {
    "tags": []
   },
   "outputs": [],
   "source": [
    "#### IMPORT LIBRARIES Code Block\n",
    "import board\n",
    "import neopixel\n",
    "from time import sleep\n",
    "from sys import exit"
   ]
  },
  {
   "attachments": {},
   "cell_type": "markdown",
   "id": "ad02aba9",
   "metadata": {},
   "source": [
    "### Neopixel Setup Block"
   ]
  },
  {
   "cell_type": "code",
   "execution_count": 2,
   "id": "045b40d1-567f-40b9-b458-29c8f609273c",
   "metadata": {
    "tags": []
   },
   "outputs": [],
   "source": [
    "#### Neopixel Setup Block\n",
    "pixel_pin = board.D18\n",
    "num_pixels = 100\n",
    "ORDER = neopixel.RGB\n",
    "pixels = neopixel.NeoPixel(pixel_pin, num_pixels, \n",
    "                           brightness=0.1, auto_write=False,\n",
    "                           pixel_order=ORDER)"
   ]
  },
  {
   "attachments": {},
   "cell_type": "markdown",
   "id": "6c5957e7",
   "metadata": {},
   "source": [
    "### Main Code Block"
   ]
  },
  {
   "cell_type": "code",
   "execution_count": null,
   "id": "57ab7ce5",
   "metadata": {},
   "outputs": [],
   "source": [
    "### Main Code Block\n",
    "\n",
    "## Set all pixels to off\n",
    "pixels.fill((0,0,0))\n",
    "\n",
    "## Set all pixels to White, wait 5 sec and then turn off\n",
    "pixels.fill((255,255,255))\n",
    "pixels.show()\n",
    "sleep(5)\n",
    "pixels.fill((0,0,0))\n",
    "pixels.show()\n",
    "\n",
    "## Set 10th pixel to Blue, wait 5 sec and then turn off\n",
    "pixels[9]=((0,0,255))\n",
    "pixels.show()\n",
    "sleep(5)\n",
    "pixels.fill((0,0,0))\n",
    "pixels.show()\n"
   ]
  },
  {
   "attachments": {},
   "cell_type": "markdown",
   "id": "faebfcd6",
   "metadata": {},
   "source": [
    "### Can you make these simple patterns appear on your matrix and animate it!??\n",
    " \n",
    "Write a Python functions to do these\n",
    "Use loops to pixel numbers rather than writing many Python statements individually\n",
    "Once you have a loop to do that, you can animate them!!\n",
    "\n",
    "1. Design your pixel coordinates for patterns below on this supplied table and upload to this notebook.\n",
    "1. Make a Perfect MAGENTA CROSS 3 pixels thick in each direction. Once you have accomplished that see if you animate with a loop\n",
    "1. Make a square or rectangle  and fill it with your favourite color with a running pixel\n",
    "1. How about a firework explosion?\n",
    "1. Maybe a meandering fish with a tail?\n",
    "\n",
    "Each member of your teams should come up with an original pattern."
   ]
  },
  {
   "attachments": {},
   "cell_type": "markdown",
   "id": "cf92e8ab",
   "metadata": {},
   "source": [
    "### Pixel Pattern Designs\n",
    "\n",
    "#### Pattern 1: Magenta Cross\n",
    "![pattern1](pixel_coordinates.md)\n",
    "\n",
    "#### Pattern 2: Filling Rectange\n",
    "![pattern2](pixel_coordinates.md)\n",
    "\n",
    "#### Pattern 3: Firework Explosion\n",
    "![pattern3](pixel_coordinates.md)"
   ]
  },
  {
   "cell_type": "code",
   "execution_count": null,
   "id": "ada3f84f",
   "metadata": {},
   "outputs": [],
   "source": [
    "### Functions\n",
    "\n",
    "def magcross:\n",
    "    ## some code ...\n",
    "    ## some code ...\n",
    "\n",
    "def fillrect:\n",
    "    ## some code ...\n",
    "    ## some code ...\n",
    "\n",
    "def firework:\n",
    "    ## some code ...\n",
    "    ## some code .."
   ]
  }
 ],
 "metadata": {
  "kernelspec": {
   "display_name": "Python 3 (ipykernel)",
   "language": "python",
   "name": "python3"
  },
  "language_info": {
   "codemirror_mode": {
    "name": "ipython",
    "version": 3
   },
   "file_extension": ".py",
   "mimetype": "text/x-python",
   "name": "python",
   "nbconvert_exporter": "python",
   "pygments_lexer": "ipython3",
   "version": "3.11.2"
  }
 },
 "nbformat": 4,
 "nbformat_minor": 5
}
