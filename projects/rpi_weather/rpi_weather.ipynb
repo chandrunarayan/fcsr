{
 "cells": [
  {
   "cell_type": "markdown",
   "id": "8fab3e7d-f5c5-4a1d-b4a5-fca52d977b65",
   "metadata": {},
   "source": [
    "# An empty python notebook"
   ]
  },
  {
   "cell_type": "code",
   "execution_count": 1,
   "id": "8196bd47-8476-4915-8edd-8c0bc9c152c1",
   "metadata": {},
   "outputs": [
    {
     "name": "stdout",
     "output_type": "stream",
     "text": [
      "hello you!\n"
     ]
    }
   ],
   "source": [
    "# print hello\n",
    "print(\"hello you!\")"
   ]
  },
  {
   "cell_type": "code",
   "execution_count": null,
   "id": "c22d032a-548f-4c6f-b352-f8868b84f46b",
   "metadata": {},
   "outputs": [],
   "source": []
  }
 ],
 "metadata": {
  "kernelspec": {
   "display_name": "Python 3 (ipykernel)",
   "language": "python",
   "name": "python3"
  },
  "language_info": {
   "codemirror_mode": {
    "name": "ipython",
    "version": 3
   },
   "file_extension": ".py",
   "mimetype": "text/x-python",
   "name": "python",
   "nbconvert_exporter": "python",
   "pygments_lexer": "ipython3",
   "version": "3.9.13"
  }
 },
 "nbformat": 4,
 "nbformat_minor": 5
}
