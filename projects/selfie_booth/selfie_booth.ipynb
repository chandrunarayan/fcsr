{
 "cells": [
  {
   "cell_type": "markdown",
   "metadata": {},
   "source": [
    "## Selfie Booth\n",
    "### Authors: ?????"
   ]
  },
  {
   "cell_type": "markdown",
   "metadata": {},
   "source": [
    "### PEGBOARD Markdown Block\n",
    "\n",
    "![pc](pixel_coordinates.png)"
   ]
  },
  {
   "cell_type": "markdown",
   "metadata": {},
   "source": [
    "### ADD A PICTURE OF YOUR PIXEL BOARD BELOW!!"
   ]
  },
  {
   "cell_type": "code",
   "execution_count": null,
   "metadata": {},
   "outputs": [],
   "source": [
    "![myBoard]()"
   ]
  },
  {
   "cell_type": "markdown",
   "metadata": {},
   "source": [
    "### Coordinate Transformation Block "
   ]
  },
  {
   "cell_type": "code",
   "execution_count": null,
   "metadata": {
    "tags": []
   },
   "outputs": [],
   "source": [
    "# Specifying the origin and size of the pixel peg board\n",
    "\n",
    "num_pixels = 100   # 10x10 Matrix\n",
    "side = 10\n",
    "\n",
    "# Default Origin is top-left of pixel peg board\n",
    "rpx = 0  # top-left with +col going right\n",
    "cpx = 0  # top-left with +row going down\n",
    "\n",
    "def origin(loc):\n",
    "    global rpx\n",
    "    global cpx\n",
    "    if  loc == 'tl':     # top-left\n",
    "        rpx = 0              # top-left with +row going down\n",
    "        cpx = 0              # top-left with +col going right\n",
    "    elif  loc == 'bl':   # bot-left\n",
    "        rpx = side-1       # bot-left with +row going up\n",
    "        cpx = 0            # bot-left with +col going right\n",
    "    elif  loc == 'tr':   # top-right\n",
    "        rpx = 0            # top-right with +row going down\n",
    "        cpx = side-1       # top-right with +col going left\n",
    "    elif  loc == 'br':   # bot-right\n",
    "        rpx = side-1       # bot-right with +row going up\n",
    "        cpx = side-1       # bot-right with +col going left        \n",
    "    else:                # default top-left\n",
    "        rpx = 0            # top-left with +row going down\n",
    "        cpx = 0            # top-left with +col going right   "
   ]
  },
  {
   "cell_type": "code",
   "execution_count": null,
   "metadata": {
    "tags": []
   },
   "outputs": [],
   "source": [
    "# Creating pixel conversion 2-D Array 10x10\n",
    "import math\n",
    "import numpy as np\n",
    "\n",
    "P = np.array([[90,91,92,93,94,95,96,97,98,99], \n",
    "              [89,88,87,86,85,84,83,82,81,80],\n",
    "              [70,71,72,73,74,75,76,77,78,79], \n",
    "              [69,68,67,66,65,64,63,62,61,60],\n",
    "              [50,51,52,53,54,55,56,57,58,59], \n",
    "              [49,48,47,46,45,44,43,42,41,40],\n",
    "              [30,31,32,33,34,35,36,37,38,39], \n",
    "              [29,28,27,26,25,24,23,22,21,20],\n",
    "              [10,11,12,13,14,15,16,17,18,19], \n",
    "              [ 9, 8, 7, 6, 5, 4, 3, 2, 1, 0]])  \n",
    "\n",
    "def pix10(r,c):  \n",
    "    return P[abs(rpx-r)][abs(cpx-c)]\n",
    "\n",
    "def pix(x,y):  \n",
    "    p = math.trunc(5*(x+0.99))\n",
    "    q = math.trunc(5*(y-0.99))    \n",
    "    r = abs(q)\n",
    "    c = abs(p)\n",
    "    #print(f'r = {r} c = {c}')\n",
    "    return P[r][c]"
   ]
  },
  {
   "cell_type": "markdown",
   "metadata": {},
   "source": [
    "### Import Libraries Block"
   ]
  },
  {
   "cell_type": "code",
   "execution_count": null,
   "metadata": {
    "tags": []
   },
   "outputs": [],
   "source": [
    "#### IMPORT LIBRARIES Code Block\n",
    "import board\n",
    "import neopixel\n",
    "import matplotlib.pyplot as plt\n",
    "import cv2\n",
    "import random,math,time\n",
    "from time import sleep\n",
    "from datetime import datetime\n",
    "from sys import exit\n",
    "import subprocess\n",
    "from gpiozero import LED, Button"
   ]
  },
  {
   "cell_type": "markdown",
   "metadata": {},
   "source": [
    "### Neopixel Setup Block"
   ]
  },
  {
   "cell_type": "code",
   "execution_count": null,
   "metadata": {
    "tags": []
   },
   "outputs": [],
   "source": [
    "#### Neopixel Setup Block\n",
    "pixel_pin = board.D18\n",
    "ORDER = neopixel.RGB\n",
    "pixels = neopixel.NeoPixel(pixel_pin, num_pixels, \n",
    "                           brightness=0.1, auto_write=False,\n",
    "                           pixel_order=ORDER)"
   ]
  },
  {
   "cell_type": "markdown",
   "metadata": {},
   "source": [
    "### Python Functions Block "
   ]
  },
  {
   "cell_type": "code",
   "execution_count": null,
   "metadata": {
    "tags": []
   },
   "outputs": [],
   "source": [
    "def reset():       # simply set leds off\n",
    "    for ii in range(num_pixels):\n",
    "        #pixels.fill((0,0,0))\n",
    "        pixels[ii]=((0,0,0))\n",
    "    pixels.show()\n",
    "    sleep(0.1)"
   ]
  },
  {
   "cell_type": "code",
   "execution_count": null,
   "metadata": {
    "tags": []
   },
   "outputs": [],
   "source": [
    "def initialize():   # set leds white-off\n",
    "    for ii in range(3):         # flash white 3-times\n",
    "        pixels.fill((0,0,0))\n",
    "        #print(pixels)\n",
    "        pixels.show()\n",
    "        sleep(0.1)\n",
    "        pixels.fill((255,255,255))\n",
    "        #print(pixels)\n",
    "        pixels.show()\n",
    "        sleep(0.1)\n",
    "    pixels.fill((0,0,0))\n",
    "    #print(pixels)\n",
    "    pixels.show()    "
   ]
  },
  {
   "cell_type": "code",
   "execution_count": null,
   "metadata": {
    "tags": []
   },
   "outputs": [],
   "source": [
    "def allcolors():    # set leds red-green-blue-yellow-magenta-cyan\n",
    "    pixels.fill((0,0,0))\n",
    "    #print(pixels)\n",
    "    pixels.show()\n",
    "    sleep(1)\n",
    "    pixels.fill((255,0,0))\n",
    "    #print(pixels)\n",
    "    pixels.show()\n",
    "    sleep(1)\n",
    "    pixels.fill((0,255,0))\n",
    "    #print(pixels)\n",
    "    pixels.show()\n",
    "    sleep(1)\n",
    "    pixels.fill((0,0,255))\n",
    "    #print(pixels)\n",
    "    pixels.show()\n",
    "    sleep(1)\n",
    "    pixels.fill((255,255,0))\n",
    "    #print(pixels)\n",
    "    pixels.show()\n",
    "    sleep(1)\n",
    "    pixels.fill((255,0,255))\n",
    "    #print(pixels)\n",
    "    pixels.show()\n",
    "    sleep(1)\n",
    "    pixels.fill((0,255,255))\n",
    "    #print(pixels)\n",
    "    pixels.show()\n",
    "    sleep(1)\n",
    "    pixels.fill((0,0,0))\n",
    "    #print(pixels)\n",
    "    pixels.show()\n",
    "    sleep(1)"
   ]
  },
  {
   "cell_type": "code",
   "execution_count": null,
   "metadata": {
    "tags": []
   },
   "outputs": [],
   "source": [
    "def finish():\n",
    "    for ii in range(3):         # flash cyan 3-times\n",
    "        pixels.fill((0,0,0))\n",
    "        #print(pixels)\n",
    "        pixels.show()\n",
    "        sleep(0.1)\n",
    "        pixels.fill((0,255,255))\n",
    "        #print(pixels)\n",
    "        pixels.show()\n",
    "        sleep(0.1)    \n",
    "    pixels.fill((0,0,0))\n",
    "    #print(pixels)\n",
    "    pixels.show()        "
   ]
  },
  {
   "cell_type": "code",
   "execution_count": null,
   "metadata": {
    "tags": []
   },
   "outputs": [],
   "source": [
    "def travel():\n",
    "    for ii in range(3):             # start 3-white flashes in first pixel then turn it green\n",
    "        pixels[0]=((0,0,0))\n",
    "        pixels.show()\n",
    "        sleep(0.1)\n",
    "        pixels[0]=((255,255,255))\n",
    "        pixels.show()\n",
    "        sleep(0.1)\n",
    "    pixels[0]=((0,255,0))\n",
    "    pixels.show()\n",
    "    sleep(0.1)\n",
    "\n",
    "    for ii in range(num_pixels):    # running cyan through entire strip\n",
    "        if ii > 1:                  # turn off previous - turn on current to red\n",
    "            pixels[ii-1]=((0,0,0))\n",
    "            pixels[ii]=((255,0,0))\n",
    "        if ii > int(num_pixels/2):  # Turn middle pixel only green \n",
    "            pixels[int(num_pixels/2)]=((0,255,0)) \n",
    "        pixels.show()\n",
    "        sleep(0.1)    \n",
    "\n",
    "    for ii in range(3):             # end 3-magenta flashes in last pixel then green\n",
    "        pixels[num_pixels-1]=((0,0,0))\n",
    "        pixels.show()\n",
    "        sleep(0.1)        \n",
    "        pixels[num_pixels-1]=((255,0,255))\n",
    "        pixels.show()\n",
    "        sleep(0.1)\n",
    "        \n",
    "    pixels[num_pixels-1]=((0,255,0))\n",
    "    pixels.show()\n",
    "    sleep(1)    \n",
    "    pixels.fill((0,0,0))\n",
    "    pixels.show()\n",
    "    sleep(0.1)     "
   ]
  },
  {
   "cell_type": "code",
   "execution_count": null,
   "metadata": {
    "tags": []
   },
   "outputs": [],
   "source": [
    "def fill_matrix(c):\n",
    "    for row in range(0,side):\n",
    "        for col in range(0,side):\n",
    "            pixn = pix10(row,col)\n",
    "            pixels[pixn] = ((c[0],c[1],c[2]))\n",
    "        pixels.show()\n",
    "        sleep(0.2)"
   ]
  },
  {
   "cell_type": "code",
   "execution_count": null,
   "metadata": {},
   "outputs": [],
   "source": [
    "def move_col(c):\n",
    "    for col in range(0,side):\n",
    "        for row in range(0,side):\n",
    "            pixn = pix10(row,col)\n",
    "            pixels[pixn] = ((c[0],c[1],c[2]))\n",
    "            if col > 0:\n",
    "                pixn = pix10(row,col-1)\n",
    "                pixels[pixn] = ((0,0,0))\n",
    "        pixels.show()\n",
    "        sleep(0.2)    \n",
    "    reset()\n",
    "    for col in range(side-1,-1,-1):\n",
    "        for row in range(0,side):\n",
    "            pixn = pix10(row,col)\n",
    "            pixels[pixn] = ((c[0],c[1],c[2]))\n",
    "            if col < side-1:\n",
    "                pixn = pix10(row,col+1)\n",
    "                pixels[pixn] = ((0,0,0))\n",
    "        pixels.show()\n",
    "        sleep(0.2)\n",
    "    reset()"
   ]
  },
  {
   "cell_type": "code",
   "execution_count": null,
   "metadata": {},
   "outputs": [],
   "source": [
    "def move_row(c):\n",
    "    for row in range(0,side):\n",
    "        for col in range(0,side):\n",
    "            pixn = pix10(row,col)\n",
    "            pixels[pixn] = ((c[0],c[1],c[2]))\n",
    "            if row > 0:\n",
    "                pixn = pix10(row-1,col)\n",
    "                pixels[pixn] = ((0,0,0))\n",
    "        pixels.show()\n",
    "        sleep(0.2)    \n",
    "    reset()\n",
    "    for row in range(side-1,-1,-1):\n",
    "        for col in range(0,side):\n",
    "            pixn = pix10(row,col)\n",
    "            pixels[pixn] = ((c[0],c[1],c[2]))\n",
    "            if row < side-1:\n",
    "                pixn = pix10(row+1,col)\n",
    "                pixels[pixn] = ((0,0,0))\n",
    "        pixels.show()\n",
    "        sleep(0.2)\n",
    "    reset()"
   ]
  },
  {
   "cell_type": "code",
   "execution_count": null,
   "metadata": {},
   "outputs": [],
   "source": [
    "def take_image():\n",
    "    # datetime object containing current date and time\n",
    "    !mkdir -p images\n",
    "    now = datetime.now()\n",
    "    #thisdate = today.strftime(\"%b-%d-%Y-%hr-%M\")\n",
    "    thisdate = now.strftime(\"%d%m%Y%H%M%S\")\n",
    "    thisimg = f'testimg_{thisdate}.jpg'\n",
    "    !libcamera-still -n -o images/$thisimg\n",
    "    return f'images/{thisimg}'"
   ]
  },
  {
   "cell_type": "code",
   "execution_count": null,
   "metadata": {},
   "outputs": [],
   "source": [
    "def show_image(thisimg):\n",
    "    %matplotlib inline\n",
    "    rimg = cv2.imread(thisimg) \n",
    "    img = cv2.flip(rimg,0)\n",
    "    #plt.title(\"Selfie Booth - original color image\")\n",
    "    #plt.imshow(cv2.cvtColor(img, cv2.COLOR_BGR2RGB))\n",
    "  \n",
    "    \n",
    "    f = plt.figure(figsize=(15, 15)) \n",
    "    \n",
    "    f.add_subplot(1, 2, 1) \n",
    "    grayImg = cv2.cvtColor(img, cv2.COLOR_BGR2GRAY)\n",
    "    plt.imshow(grayImg, cmap = 'gray') \n",
    "    plt.title(\"Selfie Booth - gray\") \n",
    "\n",
    "    \n",
    "    f.add_subplot(1, 2, 2) \n",
    "    plt.imshow(cv2.cvtColor(img, cv2.COLOR_BGR2RGB)) \n",
    "    plt.title(\"Selfie Booth - original color image\")\n",
    "    "
   ]
  },
  {
   "cell_type": "markdown",
   "metadata": {},
   "source": [
    "### Button Setup Block  NEEDS MODIFICATION !!\n",
    "#### COPY the BUTTON SETUP Code Block from toggle_led.ipynb notebook down below\n",
    "#### MODIFY ```button_state``` to be ```False``` to begin with\n",
    "#### SELECT GPIO pin for Button and WIRE BREADBOARD ACCORDINGLY !!\n",
    "#### OPTIONAL ADD A SECOND BUTTON TO EXIT LOOP"
   ]
  },
  {
   "cell_type": "code",
   "execution_count": null,
   "metadata": {
    "tags": []
   },
   "outputs": [],
   "source": [
    "#### BUTTON SETUP Code Block\n",
    "\n",
    "# Button setup\n",
    "# \n",
    "\n",
    "button_state = False\n",
    "\n",
    "# This is the Callback funtion when button is pressed\n",
    "# Each time it is pressed this function is called by the system\n",
    "\n",
    "def pressed(button):\n",
    "    global button_state  # Setup to access GLOBAL button_state\n",
    "    current_time = datetime.now()\n",
    "    print(f'button {button.pin.number} was pressed @ {current_time}')\n",
    "    # This is the statement that toggles button_state between True & False!\n",
    "    button_state = not button_state  \n",
    "# The Callback funtion ENDS HERE\n",
    "\n",
    "btnpin = 4  # Connect LED long lead to GPIO?? other to GND - MODIFY THIS!\n",
    "button = Button(btnpin)  # Tell the button object that the pin is GPIO???  - MODIFY THIS!\n",
    "\n",
    "# 'pressed' is callback function above\n",
    "# 'button.when_pressed' is the event it reacts to\n",
    "button.when_pressed = pressed\n"
   ]
  },
  {
   "cell_type": "markdown",
   "metadata": {},
   "source": [
    "### Main Code Block\n",
    "#### THIS REQUIRES MODIFICATION BEFORE IT WILL WORK\n",
    "#### READ THE COMMENTS CAREFULLY!!"
   ]
  },
  {
   "cell_type": "code",
   "execution_count": null,
   "metadata": {
    "tags": []
   },
   "outputs": [],
   "source": [
    "#img=take_image()\n",
    "#show_image(img)"
   ]
  },
  {
   "cell_type": "code",
   "execution_count": null,
   "metadata": {},
   "outputs": [],
   "source": [
    "while True:\n",
    "    # YOU NEED TO MODIFY the \"if\" condition under the \"while\" stmt to check \"button_state\"\n",
    "    if button_state:\n",
    "        initialize() # flash to avoid red eye!\n",
    "        clr = ((255,255,255))\n",
    "        fill_matrix(clr)\n",
    "        thisimg = take_image()\n",
    "        show_image(thisimg)\n",
    "        ## Toggle the \"button_state\" below !!\n",
    "        clr = ((0,0,0))\n",
    "        fill_matrix(clr)\n",
    "        button_state = not button_state   ## UPDATE THIS LINE OF CODE TO TOGGLE \"button_state\"\n"
   ]
  },
  {
   "cell_type": "code",
   "execution_count": null,
   "metadata": {},
   "outputs": [],
   "source": []
  },
  {
   "cell_type": "code",
   "execution_count": null,
   "metadata": {},
   "outputs": [],
   "source": []
  }
 ],
 "metadata": {
  "accelerator": "GPU",
  "colab": {
   "provenance": []
  },
  "kernelspec": {
   "display_name": "Python 3 (ipykernel)",
   "language": "python",
   "name": "python3"
  },
  "language_info": {
   "codemirror_mode": {
    "name": "ipython",
    "version": 3
   },
   "file_extension": ".py",
   "mimetype": "text/x-python",
   "name": "python",
   "nbconvert_exporter": "python",
   "pygments_lexer": "ipython3",
   "version": "3.11.2"
  },
  "nteract": {
   "version": "0.28.0"
  }
 },
 "nbformat": 4,
 "nbformat_minor": 4
}
